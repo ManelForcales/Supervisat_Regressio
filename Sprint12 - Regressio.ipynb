{
 "cells": [
  {
   "cell_type": "code",
   "execution_count": 1,
   "metadata": {},
   "outputs": [],
   "source": [
    "import pandas as pd\n",
    "import seaborn as sns\n",
    "import matplotlib.pyplot as plt\n",
    "import numpy as np\n",
    "pd.set_option('display.max_columns', None)"
   ]
  },
  {
   "cell_type": "code",
   "execution_count": 2,
   "metadata": {},
   "outputs": [
    {
     "data": {
      "text/html": [
       "<div>\n",
       "<style scoped>\n",
       "    .dataframe tbody tr th:only-of-type {\n",
       "        vertical-align: middle;\n",
       "    }\n",
       "\n",
       "    .dataframe tbody tr th {\n",
       "        vertical-align: top;\n",
       "    }\n",
       "\n",
       "    .dataframe thead th {\n",
       "        text-align: right;\n",
       "    }\n",
       "</style>\n",
       "<table border=\"1\" class=\"dataframe\">\n",
       "  <thead>\n",
       "    <tr style=\"text-align: right;\">\n",
       "      <th></th>\n",
       "      <th>Year</th>\n",
       "      <th>Month</th>\n",
       "      <th>DayofMonth</th>\n",
       "      <th>DayOfWeek</th>\n",
       "      <th>DepTime</th>\n",
       "      <th>CRSDepTime</th>\n",
       "      <th>ArrTime</th>\n",
       "      <th>CRSArrTime</th>\n",
       "      <th>UniqueCarrier</th>\n",
       "      <th>FlightNum</th>\n",
       "      <th>TailNum</th>\n",
       "      <th>ActualElapsedTime</th>\n",
       "      <th>CRSElapsedTime</th>\n",
       "      <th>AirTime</th>\n",
       "      <th>ArrDelay</th>\n",
       "      <th>DepDelay</th>\n",
       "      <th>Origin</th>\n",
       "      <th>Dest</th>\n",
       "      <th>Distance</th>\n",
       "      <th>TaxiIn</th>\n",
       "      <th>TaxiOut</th>\n",
       "      <th>CarrierDelay</th>\n",
       "      <th>WeatherDelay</th>\n",
       "      <th>NASDelay</th>\n",
       "      <th>SecurityDelay</th>\n",
       "      <th>LateAircraftDelay</th>\n",
       "    </tr>\n",
       "  </thead>\n",
       "  <tbody>\n",
       "    <tr>\n",
       "      <th>0</th>\n",
       "      <td>2008</td>\n",
       "      <td>1</td>\n",
       "      <td>3</td>\n",
       "      <td>4</td>\n",
       "      <td>18:29</td>\n",
       "      <td>17:55</td>\n",
       "      <td>19:59</td>\n",
       "      <td>19:25</td>\n",
       "      <td>WN</td>\n",
       "      <td>3920</td>\n",
       "      <td>N464WN</td>\n",
       "      <td>90.0</td>\n",
       "      <td>90.0</td>\n",
       "      <td>77.0</td>\n",
       "      <td>34.0</td>\n",
       "      <td>34.0</td>\n",
       "      <td>IND</td>\n",
       "      <td>BWI</td>\n",
       "      <td>515</td>\n",
       "      <td>3.0</td>\n",
       "      <td>10.0</td>\n",
       "      <td>2.0</td>\n",
       "      <td>0.0</td>\n",
       "      <td>0.0</td>\n",
       "      <td>0.0</td>\n",
       "      <td>32.0</td>\n",
       "    </tr>\n",
       "    <tr>\n",
       "      <th>1</th>\n",
       "      <td>2008</td>\n",
       "      <td>1</td>\n",
       "      <td>3</td>\n",
       "      <td>4</td>\n",
       "      <td>19:37</td>\n",
       "      <td>18:30</td>\n",
       "      <td>20:37</td>\n",
       "      <td>19:40</td>\n",
       "      <td>WN</td>\n",
       "      <td>509</td>\n",
       "      <td>N763SW</td>\n",
       "      <td>240.0</td>\n",
       "      <td>250.0</td>\n",
       "      <td>230.0</td>\n",
       "      <td>57.0</td>\n",
       "      <td>67.0</td>\n",
       "      <td>IND</td>\n",
       "      <td>LAS</td>\n",
       "      <td>1591</td>\n",
       "      <td>3.0</td>\n",
       "      <td>7.0</td>\n",
       "      <td>10.0</td>\n",
       "      <td>0.0</td>\n",
       "      <td>0.0</td>\n",
       "      <td>0.0</td>\n",
       "      <td>47.0</td>\n",
       "    </tr>\n",
       "    <tr>\n",
       "      <th>2</th>\n",
       "      <td>2008</td>\n",
       "      <td>1</td>\n",
       "      <td>3</td>\n",
       "      <td>4</td>\n",
       "      <td>16:44</td>\n",
       "      <td>15:10</td>\n",
       "      <td>18:45</td>\n",
       "      <td>17:25</td>\n",
       "      <td>WN</td>\n",
       "      <td>1333</td>\n",
       "      <td>N334SW</td>\n",
       "      <td>121.0</td>\n",
       "      <td>135.0</td>\n",
       "      <td>107.0</td>\n",
       "      <td>80.0</td>\n",
       "      <td>94.0</td>\n",
       "      <td>IND</td>\n",
       "      <td>MCO</td>\n",
       "      <td>828</td>\n",
       "      <td>6.0</td>\n",
       "      <td>8.0</td>\n",
       "      <td>8.0</td>\n",
       "      <td>0.0</td>\n",
       "      <td>0.0</td>\n",
       "      <td>0.0</td>\n",
       "      <td>72.0</td>\n",
       "    </tr>\n",
       "    <tr>\n",
       "      <th>3</th>\n",
       "      <td>2008</td>\n",
       "      <td>1</td>\n",
       "      <td>3</td>\n",
       "      <td>4</td>\n",
       "      <td>14:52</td>\n",
       "      <td>14:25</td>\n",
       "      <td>16:40</td>\n",
       "      <td>16:25</td>\n",
       "      <td>WN</td>\n",
       "      <td>675</td>\n",
       "      <td>N286WN</td>\n",
       "      <td>228.0</td>\n",
       "      <td>240.0</td>\n",
       "      <td>213.0</td>\n",
       "      <td>15.0</td>\n",
       "      <td>27.0</td>\n",
       "      <td>IND</td>\n",
       "      <td>PHX</td>\n",
       "      <td>1489</td>\n",
       "      <td>7.0</td>\n",
       "      <td>8.0</td>\n",
       "      <td>3.0</td>\n",
       "      <td>0.0</td>\n",
       "      <td>0.0</td>\n",
       "      <td>0.0</td>\n",
       "      <td>12.0</td>\n",
       "    </tr>\n",
       "    <tr>\n",
       "      <th>4</th>\n",
       "      <td>2008</td>\n",
       "      <td>1</td>\n",
       "      <td>3</td>\n",
       "      <td>4</td>\n",
       "      <td>13:23</td>\n",
       "      <td>12:55</td>\n",
       "      <td>15:26</td>\n",
       "      <td>15:10</td>\n",
       "      <td>WN</td>\n",
       "      <td>4</td>\n",
       "      <td>N674AA</td>\n",
       "      <td>123.0</td>\n",
       "      <td>135.0</td>\n",
       "      <td>110.0</td>\n",
       "      <td>16.0</td>\n",
       "      <td>28.0</td>\n",
       "      <td>IND</td>\n",
       "      <td>TPA</td>\n",
       "      <td>838</td>\n",
       "      <td>4.0</td>\n",
       "      <td>9.0</td>\n",
       "      <td>0.0</td>\n",
       "      <td>0.0</td>\n",
       "      <td>0.0</td>\n",
       "      <td>0.0</td>\n",
       "      <td>16.0</td>\n",
       "    </tr>\n",
       "  </tbody>\n",
       "</table>\n",
       "</div>"
      ],
      "text/plain": [
       "   Year  Month  DayofMonth  DayOfWeek DepTime CRSDepTime ArrTime CRSArrTime  \\\n",
       "0  2008      1           3          4   18:29      17:55   19:59      19:25   \n",
       "1  2008      1           3          4   19:37      18:30   20:37      19:40   \n",
       "2  2008      1           3          4   16:44      15:10   18:45      17:25   \n",
       "3  2008      1           3          4   14:52      14:25   16:40      16:25   \n",
       "4  2008      1           3          4   13:23      12:55   15:26      15:10   \n",
       "\n",
       "  UniqueCarrier  FlightNum TailNum  ActualElapsedTime  CRSElapsedTime  \\\n",
       "0            WN       3920  N464WN               90.0            90.0   \n",
       "1            WN        509  N763SW              240.0           250.0   \n",
       "2            WN       1333  N334SW              121.0           135.0   \n",
       "3            WN        675  N286WN              228.0           240.0   \n",
       "4            WN          4  N674AA              123.0           135.0   \n",
       "\n",
       "   AirTime  ArrDelay  DepDelay Origin Dest  Distance  TaxiIn  TaxiOut  \\\n",
       "0     77.0      34.0      34.0    IND  BWI       515     3.0     10.0   \n",
       "1    230.0      57.0      67.0    IND  LAS      1591     3.0      7.0   \n",
       "2    107.0      80.0      94.0    IND  MCO       828     6.0      8.0   \n",
       "3    213.0      15.0      27.0    IND  PHX      1489     7.0      8.0   \n",
       "4    110.0      16.0      28.0    IND  TPA       838     4.0      9.0   \n",
       "\n",
       "   CarrierDelay  WeatherDelay  NASDelay  SecurityDelay  LateAircraftDelay  \n",
       "0           2.0           0.0       0.0            0.0               32.0  \n",
       "1          10.0           0.0       0.0            0.0               47.0  \n",
       "2           8.0           0.0       0.0            0.0               72.0  \n",
       "3           3.0           0.0       0.0            0.0               12.0  \n",
       "4           0.0           0.0       0.0            0.0               16.0  "
      ]
     },
     "execution_count": 2,
     "metadata": {},
     "output_type": "execute_result"
    }
   ],
   "source": [
    "df = pd.read_csv('flights_clean.csv')\n",
    "df.drop(['Unnamed: 0'],axis=1,inplace=True)\n",
    "df.drop_duplicates(inplace=True)\n",
    "df.head()"
   ]
  },
  {
   "cell_type": "markdown",
   "metadata": {},
   "source": [
    "### Nivell 1\n",
    "\n",
    "# Exercici 1\n",
    "\n",
    "Crea almenys tres models de regressió diferents per intentar predir el millor possible l’endarreriment dels vols (ArrDelay) de DelayedFlights.csv."
   ]
  },
  {
   "cell_type": "markdown",
   "metadata": {},
   "source": [
    "## Exploratori Data Analysis (EDA)"
   ]
  },
  {
   "cell_type": "code",
   "execution_count": 3,
   "metadata": {},
   "outputs": [
    {
     "name": "stdout",
     "output_type": "stream",
     "text": [
      "(1247484,)\n"
     ]
    }
   ],
   "source": [
    "y = target = df['ArrDelay']\n",
    "print(y.shape)"
   ]
  },
  {
   "cell_type": "markdown",
   "metadata": {},
   "source": [
    "+ quines variables fem servir pels features (X)?"
   ]
  },
  {
   "cell_type": "code",
   "execution_count": 4,
   "metadata": {},
   "outputs": [
    {
     "name": "stdout",
     "output_type": "stream",
     "text": [
      "(1247484, 12)\n"
     ]
    }
   ],
   "source": [
    "# mirem variables numeriques\n",
    "X = df[['ActualElapsedTime','CRSElapsedTime','AirTime','DepDelay','Distance','TaxiIn','TaxiOut','CarrierDelay','WeatherDelay','NASDelay','SecurityDelay','LateAircraftDelay']]\n",
    "print(X.shape)"
   ]
  },
  {
   "cell_type": "code",
   "execution_count": 5,
   "metadata": {},
   "outputs": [
    {
     "data": {
      "text/html": [
       "<div>\n",
       "<style scoped>\n",
       "    .dataframe tbody tr th:only-of-type {\n",
       "        vertical-align: middle;\n",
       "    }\n",
       "\n",
       "    .dataframe tbody tr th {\n",
       "        vertical-align: top;\n",
       "    }\n",
       "\n",
       "    .dataframe thead th {\n",
       "        text-align: right;\n",
       "    }\n",
       "</style>\n",
       "<table border=\"1\" class=\"dataframe\">\n",
       "  <thead>\n",
       "    <tr style=\"text-align: right;\">\n",
       "      <th></th>\n",
       "      <th>ActualElapsedTime</th>\n",
       "      <th>CRSElapsedTime</th>\n",
       "      <th>AirTime</th>\n",
       "      <th>DepDelay</th>\n",
       "      <th>Distance</th>\n",
       "      <th>TaxiIn</th>\n",
       "      <th>TaxiOut</th>\n",
       "      <th>CarrierDelay</th>\n",
       "      <th>WeatherDelay</th>\n",
       "      <th>NASDelay</th>\n",
       "      <th>SecurityDelay</th>\n",
       "      <th>LateAircraftDelay</th>\n",
       "    </tr>\n",
       "  </thead>\n",
       "  <tbody>\n",
       "    <tr>\n",
       "      <th>0</th>\n",
       "      <td>90.0</td>\n",
       "      <td>90.0</td>\n",
       "      <td>77.0</td>\n",
       "      <td>34.0</td>\n",
       "      <td>515</td>\n",
       "      <td>3.0</td>\n",
       "      <td>10.0</td>\n",
       "      <td>2.0</td>\n",
       "      <td>0.0</td>\n",
       "      <td>0.0</td>\n",
       "      <td>0.0</td>\n",
       "      <td>32.0</td>\n",
       "    </tr>\n",
       "    <tr>\n",
       "      <th>1</th>\n",
       "      <td>240.0</td>\n",
       "      <td>250.0</td>\n",
       "      <td>230.0</td>\n",
       "      <td>67.0</td>\n",
       "      <td>1591</td>\n",
       "      <td>3.0</td>\n",
       "      <td>7.0</td>\n",
       "      <td>10.0</td>\n",
       "      <td>0.0</td>\n",
       "      <td>0.0</td>\n",
       "      <td>0.0</td>\n",
       "      <td>47.0</td>\n",
       "    </tr>\n",
       "    <tr>\n",
       "      <th>2</th>\n",
       "      <td>121.0</td>\n",
       "      <td>135.0</td>\n",
       "      <td>107.0</td>\n",
       "      <td>94.0</td>\n",
       "      <td>828</td>\n",
       "      <td>6.0</td>\n",
       "      <td>8.0</td>\n",
       "      <td>8.0</td>\n",
       "      <td>0.0</td>\n",
       "      <td>0.0</td>\n",
       "      <td>0.0</td>\n",
       "      <td>72.0</td>\n",
       "    </tr>\n",
       "    <tr>\n",
       "      <th>3</th>\n",
       "      <td>228.0</td>\n",
       "      <td>240.0</td>\n",
       "      <td>213.0</td>\n",
       "      <td>27.0</td>\n",
       "      <td>1489</td>\n",
       "      <td>7.0</td>\n",
       "      <td>8.0</td>\n",
       "      <td>3.0</td>\n",
       "      <td>0.0</td>\n",
       "      <td>0.0</td>\n",
       "      <td>0.0</td>\n",
       "      <td>12.0</td>\n",
       "    </tr>\n",
       "    <tr>\n",
       "      <th>4</th>\n",
       "      <td>123.0</td>\n",
       "      <td>135.0</td>\n",
       "      <td>110.0</td>\n",
       "      <td>28.0</td>\n",
       "      <td>838</td>\n",
       "      <td>4.0</td>\n",
       "      <td>9.0</td>\n",
       "      <td>0.0</td>\n",
       "      <td>0.0</td>\n",
       "      <td>0.0</td>\n",
       "      <td>0.0</td>\n",
       "      <td>16.0</td>\n",
       "    </tr>\n",
       "  </tbody>\n",
       "</table>\n",
       "</div>"
      ],
      "text/plain": [
       "   ActualElapsedTime  CRSElapsedTime  AirTime  DepDelay  Distance  TaxiIn  \\\n",
       "0               90.0            90.0     77.0      34.0       515     3.0   \n",
       "1              240.0           250.0    230.0      67.0      1591     3.0   \n",
       "2              121.0           135.0    107.0      94.0       828     6.0   \n",
       "3              228.0           240.0    213.0      27.0      1489     7.0   \n",
       "4              123.0           135.0    110.0      28.0       838     4.0   \n",
       "\n",
       "   TaxiOut  CarrierDelay  WeatherDelay  NASDelay  SecurityDelay  \\\n",
       "0     10.0           2.0           0.0       0.0            0.0   \n",
       "1      7.0          10.0           0.0       0.0            0.0   \n",
       "2      8.0           8.0           0.0       0.0            0.0   \n",
       "3      8.0           3.0           0.0       0.0            0.0   \n",
       "4      9.0           0.0           0.0       0.0            0.0   \n",
       "\n",
       "   LateAircraftDelay  \n",
       "0               32.0  \n",
       "1               47.0  \n",
       "2               72.0  \n",
       "3               12.0  \n",
       "4               16.0  "
      ]
     },
     "execution_count": 5,
     "metadata": {},
     "output_type": "execute_result"
    }
   ],
   "source": [
    "X.head()"
   ]
  },
  {
   "cell_type": "code",
   "execution_count": null,
   "metadata": {},
   "outputs": [],
   "source": [
    "# existeix alguna correlació entre aquestes variables numeriques?\n",
    "corr = X.corr()\n",
    "sns.heatmap(corr,cmap='coolwarm',vmax=1, vmin=-1)\n",
    "plt.show()"
   ]
  },
  {
   "cell_type": "markdown",
   "metadata": {},
   "source": [
    "+ hem de seleccionar aquelles variables independents i que tinguin poca correlacio entre elles al model final. Si no fos aixi s'introdueix error al modelatge\n",
    "+ ActualElapsedTime and CRSElapsedTime estan molt relacionades (una es el valor real i l'altre el esperat)\n",
    "+ AirTime i Distance tambe estan molt relaciondes : speed = Distance/time\n",
    "+ DepDelay amb CarrierDelay, Weatherdelay,NSAdelay,etc tambe hi ha força correlacio"
   ]
  },
  {
   "cell_type": "code",
   "execution_count": null,
   "metadata": {},
   "outputs": [],
   "source": [
    "# visualitzem la relacio entre aquestes dues variables relacionades\n",
    "sns.scatterplot(x='ActualElapsedTime',y = 'CRSElapsedTime',data=X)"
   ]
  },
  {
   "cell_type": "code",
   "execution_count": null,
   "metadata": {},
   "outputs": [],
   "source": [
    "sns.scatterplot(x='LateAircraftDelay', y='DepDelay',hue='CarrierDelay',data=X)"
   ]
  },
  {
   "cell_type": "markdown",
   "metadata": {},
   "source": [
    "+ quan l'avio anterior arriba tard fa que l'avio actual surti tard en molts casos (hi ha correlació) sempre i quan el CarrierDelay sigui petit\n",
    "\n",
    "+ hi han força valors que no semblen tenir correlacio amb CarrierDelay > 1000, la resta si hi ha una correlacio important entre aquestes variables"
   ]
  },
  {
   "cell_type": "code",
   "execution_count": null,
   "metadata": {},
   "outputs": [],
   "source": [
    "df.describe().round(2)"
   ]
  },
  {
   "cell_type": "markdown",
   "metadata": {},
   "source": [
    "+ veiem que DepDelay,WeatherDelay,CarrierDelay,etc... tienen desviaciones respecto la media alta (**std** alto)"
   ]
  },
  {
   "cell_type": "code",
   "execution_count": null,
   "metadata": {},
   "outputs": [],
   "source": [
    "# anem a mirar si hi han molts outliers dins de cada columna\n",
    "box = X.boxplot(rot=90)"
   ]
  },
  {
   "cell_type": "code",
   "execution_count": null,
   "metadata": {},
   "outputs": [],
   "source": [
    "df[df['Distance']>4960]"
   ]
  },
  {
   "cell_type": "markdown",
   "metadata": {},
   "source": [
    "+ tot i que hi han outliers no els trec perque per exemple un vol amb una distancia molt llarga (considerat outlier) no significa que sigui una anomalia. Aquests vols van de NEWPORT (NEW YORK) a HONOLULU (HAWAI) o viceversa\n",
    "\n",
    "+ de la mateixa manera cada columna te els seus outliers pero s'hauria de mirar un a un si es treuen o no"
   ]
  },
  {
   "cell_type": "markdown",
   "metadata": {},
   "source": [
    "#### faig servir totes les dades per aquest primer exercici"
   ]
  },
  {
   "cell_type": "code",
   "execution_count": 7,
   "metadata": {},
   "outputs": [],
   "source": [
    "# model de regressio 1: lineal\n",
    "from sklearn.linear_model import LinearRegression\n",
    "# metode lineal basat en Ordinary Least Squares (OLS)\n",
    "linear_model = LinearRegression()"
   ]
  },
  {
   "cell_type": "code",
   "execution_count": 8,
   "metadata": {},
   "outputs": [
    {
     "name": "stdout",
     "output_type": "stream",
     "text": [
      "[ 0.4239248  -0.68914264  0.26529368  0.70060384 -0.          0.24452625\n",
      "  0.26962562  0.29828524  0.29743351  0.30116107  0.05401889  0.29813765]\n"
     ]
    },
    {
     "name": "stderr",
     "output_type": "stream",
     "text": [
      "/home/vant/.local/lib/python3.8/site-packages/sklearn/linear_model/_coordinate_descent.py:530: ConvergenceWarning: Objective did not converge. You might want to increase the number of iterations. Duality gap: 3052921.7944291723, tolerance: 460449.58999871474\n",
      "  model = cd_fast.enet_coordinate_descent(\n"
     ]
    },
    {
     "data": {
      "image/png": "[encoded data removed]",
      "text/plain": [
       "<Figure size 432x288 with 1 Axes>"
      ]
     },
     "metadata": {
      "needs_background": "light"
     },
     "output_type": "display_data"
    }
   ],
   "source": [
    "# model de regressio 2: Lasso Regressor\n",
    "# model lineal pero que penalitza incloure moltes variables o variables amb coficients grans\n",
    "# LASSO regression is a variation of linear regression specifically adapted for data that shows\n",
    "# heavy multicollinearity (heavy correlation of features with each other). \n",
    "from sklearn.linear_model import Lasso\n",
    "\n",
    "lasso_model = Lasso()\n",
    "lasso_model.fit(X,y)\n",
    "print(lasso_model.coef_)\n",
    "plt.bar(X.columns,lasso_model.coef_)\n",
    "plt.xticks(rotation=90)\n",
    "plt.ylabel('importancia de los coef')\n",
    "plt.show()"
   ]
  },
  {
   "cell_type": "markdown",
   "metadata": {},
   "source": [
    "+ Distance no parece tener importancia para el modelo"
   ]
  },
  {
   "cell_type": "code",
   "execution_count": 14,
   "metadata": {},
   "outputs": [
    {
     "data": {
      "text/plain": [
       "False"
      ]
     },
     "execution_count": 14,
     "metadata": {},
     "output_type": "execute_result"
    }
   ],
   "source": [
    "# check if the target is within the features\n",
    "'ArrDelay' in X.columns"
   ]
  },
  {
   "cell_type": "code",
   "execution_count": 15,
   "metadata": {},
   "outputs": [],
   "source": [
    "# model de regressio 3: Decision Tree Regressor\n",
    "from sklearn.tree import DecisionTreeRegressor\n",
    "\n",
    "decision_tree_model = DecisionTreeRegressor()"
   ]
  },
  {
   "cell_type": "markdown",
   "metadata": {},
   "source": [
    "# Exercici 2\n",
    "\n",
    "Compara’ls en base al MSE i al R2 ."
   ]
  },
  {
   "cell_type": "code",
   "execution_count": 16,
   "metadata": {},
   "outputs": [],
   "source": [
    "from sklearn.metrics import r2_score\n",
    "from sklearn.metrics import mean_squared_error as MSE"
   ]
  },
  {
   "cell_type": "code",
   "execution_count": 17,
   "metadata": {},
   "outputs": [
    {
     "name": "stdout",
     "output_type": "stream",
     "text": [
      "modelo: LinearRegression() R2 score: 1.0, MSE: 1.4623997209850364e-26\n"
     ]
    },
    {
     "name": "stderr",
     "output_type": "stream",
     "text": [
      "/home/vant/.local/lib/python3.8/site-packages/sklearn/linear_model/_coordinate_descent.py:530: ConvergenceWarning: Objective did not converge. You might want to increase the number of iterations. Duality gap: 3052921.7944291723, tolerance: 460449.58999871474\n",
      "  model = cd_fast.enet_coordinate_descent(\n"
     ]
    },
    {
     "name": "stdout",
     "output_type": "stream",
     "text": [
      "modelo: Lasso() R2 score: 0.999918738990765, MSE: 0.2999364992668424\n",
      "modelo: DecisionTreeRegressor() R2 score: 1.0, MSE: 0.0\n"
     ]
    }
   ],
   "source": [
    "modelos = [linear_model,lasso_model,decision_tree_model]\n",
    "for model in modelos:\n",
    "    model.fit(X,y)\n",
    "    y_pred = model.predict(X)    \n",
    "    R2 = r2_score(y,y_pred) \n",
    "    mse = MSE(y,y_pred)\n",
    "    print(f'modelo: {str(model)} R2 score: {R2}, MSE: {mse}')"
   ]
  },
  {
   "cell_type": "markdown",
   "metadata": {},
   "source": [
    "### com es possible que surti R2 score =1 ?? overfitting per no separar train/test sets?"
   ]
  },
  {
   "cell_type": "markdown",
   "metadata": {},
   "source": [
    "# Exercici 3\n",
    "\n",
    "Entrena’ls utilitzant els diferents paràmetres que admeten."
   ]
  },
  {
   "cell_type": "code",
   "execution_count": 18,
   "metadata": {},
   "outputs": [
    {
     "name": "stdout",
     "output_type": "stream",
     "text": [
      "[1.00000000e-08 1.29154967e-07 1.66810054e-06 2.15443469e-05\n",
      " 2.78255940e-04 3.59381366e-03 4.64158883e-02 5.99484250e-01\n",
      " 7.74263683e+00 1.00000000e+02]\n",
      "the best alpha is 1e-08\n"
     ]
    }
   ],
   "source": [
    "# find the best alpha parameter\n",
    "from sklearn.linear_model import LassoCV\n",
    "alpha = np.logspace(-8, 2, 10)\n",
    "print(alpha)\n",
    "lasso_model = LassoCV(alphas=alpha)\n",
    "lasso_model.fit(X, y)\n",
    "print(f'the best alpha is {lasso_model.alpha_}')\n"
   ]
  },
  {
   "cell_type": "code",
   "execution_count": 19,
   "metadata": {},
   "outputs": [],
   "source": [
    "linear = LinearRegression()\n",
    "lasso = Lasso(alpha=1E-8,normalize=True) # if normalize =True all variable are in the same scale\n",
    "tree = DecisionTreeRegressor(criterion='mse',max_depth= 20,min_samples_leaf=1)\n",
    "# for tree, the higher the max_depth can lead to OVERFITTING..."
   ]
  },
  {
   "cell_type": "code",
   "execution_count": 20,
   "metadata": {},
   "outputs": [
    {
     "name": "stdout",
     "output_type": "stream",
     "text": [
      "modelo: LinearRegression() R2 score: 1.0, MSE: 1.4623997209850364e-26\n",
      "modelo: Lasso(alpha=1e-08, normalize=True) R2 score: 0.9999998096413107, MSE: 0.0007026188744636177\n",
      "modelo: DecisionTreeRegressor(max_depth=20) R2 score: 0.9994514130651461, MSE: 2.024848649218219\n"
     ]
    }
   ],
   "source": [
    "modelos = [linear,lasso,tree]\n",
    "for model in modelos:\n",
    "    model.fit(X,y)\n",
    "    y_pred = model.predict(X)    \n",
    "    R2 = r2_score(y,y_pred) \n",
    "    mse = MSE(y,y_pred)\n",
    "    \n",
    "    print(f'modelo: {str(model)} R2 score: {R2}, MSE: {mse}')\n",
    "    "
   ]
  },
  {
   "cell_type": "markdown",
   "metadata": {},
   "source": [
    "# Exercici 4\n",
    "\n",
    "Compara el seu rendiment utilitzant l’aproximació traint/test o utilitzant totes les dades (validació interna)\n",
    "\n"
   ]
  },
  {
   "cell_type": "code",
   "execution_count": 21,
   "metadata": {},
   "outputs": [],
   "source": [
    "from sklearn.model_selection import train_test_split,cross_val_score"
   ]
  },
  {
   "cell_type": "code",
   "execution_count": 22,
   "metadata": {},
   "outputs": [],
   "source": [
    "X_train,X_test, y_train,y_test = train_test_split(X,y,test_size=0.3)"
   ]
  },
  {
   "cell_type": "code",
   "execution_count": 23,
   "metadata": {},
   "outputs": [
    {
     "name": "stdout",
     "output_type": "stream",
     "text": [
      "modelo: LinearRegression() R2 score: 1.0, MSE: 1.4713108632734927e-26\n",
      "modelo: Lasso(alpha=1e-08, normalize=True) R2 score: 0.9999998053019212, MSE: 0.0007154566578822911\n",
      "modelo: DecisionTreeRegressor(max_depth=20) R2 score: 0.9962632252839349, MSE: 13.731518909513213\n"
     ]
    }
   ],
   "source": [
    "modelos = [linear,lasso,tree]\n",
    "for model in modelos:\n",
    "    model.fit(X_train,y_train)\n",
    "    y_pred = model.predict(X_test)    \n",
    "    R2 = r2_score(y_test,y_pred) \n",
    "    mse = MSE(y_test,y_pred)\n",
    "    print(f'modelo: {str(model)} R2 score: {R2}, MSE: {mse}')\n",
    "    "
   ]
  },
  {
   "cell_type": "code",
   "execution_count": 24,
   "metadata": {},
   "outputs": [
    {
     "name": "stdout",
     "output_type": "stream",
     "text": [
      "modelo: LinearRegression() R2 score: 0.9999999990719701\n",
      "modelo: Lasso(alpha=1e-08, normalize=True) R2 score: 0.9999997998440012\n",
      "modelo: DecisionTreeRegressor(max_depth=20) R2 score: 0.9959331083572852\n"
     ]
    }
   ],
   "source": [
    "# calculo R2 score usando cross validation para ser menos sensible a como dividimos los datos entre train i test \n",
    "modelos = [linear,lasso,tree]\n",
    "for model in modelos:\n",
    "    cv_results = cross_val_score(model, X, y, cv=5)   \n",
    "    print(f'modelo: {str(model)} R2 score: {np.mean(cv_results)}')"
   ]
  },
  {
   "cell_type": "markdown",
   "metadata": {},
   "source": [
    "### Nivell 2\n",
    "\n",
    "\n",
    "\n",
    "# Exercici 5\n",
    "\n",
    "Realitza algun procés d’enginyeria de variables per millorar-ne la predicció\n",
    "\n"
   ]
  },
  {
   "cell_type": "code",
   "execution_count": null,
   "metadata": {},
   "outputs": [],
   "source": [
    "from sklearn.preprocessing import MinMaxScaler,StandardScaler"
   ]
  },
  {
   "cell_type": "code",
   "execution_count": null,
   "metadata": {},
   "outputs": [],
   "source": [
    "df_subset.head()"
   ]
  },
  {
   "cell_type": "code",
   "execution_count": null,
   "metadata": {},
   "outputs": [],
   "source": [
    "scaler = StandardScaler()\n",
    "df_scaler = pd.DataFrame(scaler.fit_transform(df_subset),columns=df_subset.columns)"
   ]
  },
  {
   "cell_type": "code",
   "execution_count": null,
   "metadata": {},
   "outputs": [],
   "source": [
    "df_scaler.head()"
   ]
  },
  {
   "cell_type": "code",
   "execution_count": null,
   "metadata": {},
   "outputs": [],
   "source": [
    "sns.histplot(df_subset['ArrDelay'],color='black',alpha=0.5,bins=100)"
   ]
  },
  {
   "cell_type": "code",
   "execution_count": null,
   "metadata": {},
   "outputs": [],
   "source": [
    "sns.histplot(df_scaler['ArrDelay'],color='red')\n",
    "plt.xlim([-2,5])"
   ]
  },
  {
   "cell_type": "code",
   "execution_count": null,
   "metadata": {},
   "outputs": [],
   "source": [
    "X_new,y_new = get_X_y_from_dataset(dataframe=df_scaler,target_colum='ArrDelay')\n",
    "\n",
    "X_train_new,X_test_new,y_train_new, y_test_new = train_test_split(X_new,y_new,test_size=0.3)"
   ]
  },
  {
   "cell_type": "code",
   "execution_count": null,
   "metadata": {},
   "outputs": [],
   "source": [
    "df_scaler.head()"
   ]
  },
  {
   "cell_type": "code",
   "execution_count": null,
   "metadata": {},
   "outputs": [],
   "source": [
    "modelos = [linear,lasso,tree]\n",
    "for model in modelos:\n",
    "    model.fit(X_train_new,y_train_new)\n",
    "    y_pred = model.predict(X_test_new)    \n",
    "    R2 = r2_score(y_test_new,y_pred) \n",
    "    mse = MSE(y_test_new,y_pred)\n",
    "    print(f'modelo: {str(model)} R2 score: {R2}, MSE: {mse}')"
   ]
  },
  {
   "cell_type": "markdown",
   "metadata": {},
   "source": [
    "+ R2 score se mantien igual pero MSE baja"
   ]
  },
  {
   "cell_type": "markdown",
   "metadata": {},
   "source": [
    "### Nivell 3\n",
    "\n",
    "\n",
    "# Exercici 6\n",
    "\n",
    "No utilitzis la variable DepDelay a l’hora de fer prediccions"
   ]
  },
  {
   "cell_type": "code",
   "execution_count": null,
   "metadata": {},
   "outputs": [],
   "source": [
    "df_final = df_scaler.drop('DepDelay',axis=1)\n",
    "X,y = get_X_y_from_dataset(dataframe=df_final,target_colum='ArrDelay')\n",
    "\n",
    "X_train,X_test,y_train, y_test = train_test_split(X,y,test_size=0.3)\n",
    "modelos = [linear,lasso,tree]\n",
    "for model in modelos:\n",
    "    model.fit(X_train_new,y_train_new)\n",
    "    y_pred = model.predict(X_test_new)    \n",
    "    R2 = r2_score(y_test_new,y_pred) \n",
    "    mse = MSE(y_test_new,y_pred)\n",
    "    print(f'modelo: {str(model)} R2 score: {R2}, MSE: {mse}')"
   ]
  },
  {
   "cell_type": "markdown",
   "metadata": {},
   "source": [
    "+ el resultat final no varia massa per tant DepDelay no es una de les variables que serveixen a l'hora de contruir aquesta regressio per predir el ArrDelay"
   ]
  },
  {
   "cell_type": "markdown",
   "metadata": {},
   "source": [
    "### como es possible que DepDelay no importe si tiene una fuerte correlation con ArrDelay ?\n",
    "\n"
   ]
  },
  {
   "cell_type": "code",
   "execution_count": null,
   "metadata": {},
   "outputs": [],
   "source": []
  }
 ],
 "metadata": {
  "kernelspec": {
   "display_name": "Python 3.8.5 64-bit",
   "language": "python",
   "name": "python38564bit085283b789164c689fec9352bdb58d25"
  },
  "language_info": {
   "codemirror_mode": {
    "name": "ipython",
    "version": 3
   },
   "file_extension": ".py",
   "mimetype": "text/x-python",
   "name": "python",
   "nbconvert_exporter": "python",
   "pygments_lexer": "ipython3",
   "version": "3.8.5"
  }
 },
 "nbformat": 4,
 "nbformat_minor": 4
}
