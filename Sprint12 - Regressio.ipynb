{
 "cells": [
  {
   "cell_type": "code",
   "execution_count": 1,
   "metadata": {},
   "outputs": [],
   "source": [
    "import pandas as pd\n",
    "import seaborn as sns\n",
    "import matplotlib.pyplot as plt\n",
    "import numpy as np\n",
    "pd.set_option('display.max_columns', None)"
   ]
  },
  {
   "cell_type": "code",
   "execution_count": 6,
   "metadata": {},
   "outputs": [
    {
     "data": {
      "text/html": [
       "<div>\n",
       "<style scoped>\n",
       "    .dataframe tbody tr th:only-of-type {\n",
       "        vertical-align: middle;\n",
       "    }\n",
       "\n",
       "    .dataframe tbody tr th {\n",
       "        vertical-align: top;\n",
       "    }\n",
       "\n",
       "    .dataframe thead th {\n",
       "        text-align: right;\n",
       "    }\n",
       "</style>\n",
       "<table border=\"1\" class=\"dataframe\">\n",
       "  <thead>\n",
       "    <tr style=\"text-align: right;\">\n",
       "      <th></th>\n",
       "      <th>Year</th>\n",
       "      <th>Month</th>\n",
       "      <th>DayofMonth</th>\n",
       "      <th>DayOfWeek</th>\n",
       "      <th>DepTime</th>\n",
       "      <th>CRSDepTime</th>\n",
       "      <th>ArrTime</th>\n",
       "      <th>CRSArrTime</th>\n",
       "      <th>UniqueCarrier</th>\n",
       "      <th>FlightNum</th>\n",
       "      <th>TailNum</th>\n",
       "      <th>ActualElapsedTime</th>\n",
       "      <th>CRSElapsedTime</th>\n",
       "      <th>AirTime</th>\n",
       "      <th>ArrDelay</th>\n",
       "      <th>DepDelay</th>\n",
       "      <th>Origin</th>\n",
       "      <th>Dest</th>\n",
       "      <th>Distance</th>\n",
       "      <th>TaxiIn</th>\n",
       "      <th>TaxiOut</th>\n",
       "      <th>CarrierDelay</th>\n",
       "      <th>WeatherDelay</th>\n",
       "      <th>NASDelay</th>\n",
       "      <th>SecurityDelay</th>\n",
       "      <th>LateAircraftDelay</th>\n",
       "    </tr>\n",
       "  </thead>\n",
       "  <tbody>\n",
       "    <tr>\n",
       "      <th>0</th>\n",
       "      <td>2008</td>\n",
       "      <td>1</td>\n",
       "      <td>3</td>\n",
       "      <td>4</td>\n",
       "      <td>18:29</td>\n",
       "      <td>17:55</td>\n",
       "      <td>19:59</td>\n",
       "      <td>19:25</td>\n",
       "      <td>WN</td>\n",
       "      <td>3920</td>\n",
       "      <td>N464WN</td>\n",
       "      <td>90.0</td>\n",
       "      <td>90.0</td>\n",
       "      <td>77.0</td>\n",
       "      <td>34.0</td>\n",
       "      <td>34.0</td>\n",
       "      <td>IND</td>\n",
       "      <td>BWI</td>\n",
       "      <td>515</td>\n",
       "      <td>3.0</td>\n",
       "      <td>10.0</td>\n",
       "      <td>2.0</td>\n",
       "      <td>0.0</td>\n",
       "      <td>0.0</td>\n",
       "      <td>0.0</td>\n",
       "      <td>32.0</td>\n",
       "    </tr>\n",
       "    <tr>\n",
       "      <th>1</th>\n",
       "      <td>2008</td>\n",
       "      <td>1</td>\n",
       "      <td>3</td>\n",
       "      <td>4</td>\n",
       "      <td>19:37</td>\n",
       "      <td>18:30</td>\n",
       "      <td>20:37</td>\n",
       "      <td>19:40</td>\n",
       "      <td>WN</td>\n",
       "      <td>509</td>\n",
       "      <td>N763SW</td>\n",
       "      <td>240.0</td>\n",
       "      <td>250.0</td>\n",
       "      <td>230.0</td>\n",
       "      <td>57.0</td>\n",
       "      <td>67.0</td>\n",
       "      <td>IND</td>\n",
       "      <td>LAS</td>\n",
       "      <td>1591</td>\n",
       "      <td>3.0</td>\n",
       "      <td>7.0</td>\n",
       "      <td>10.0</td>\n",
       "      <td>0.0</td>\n",
       "      <td>0.0</td>\n",
       "      <td>0.0</td>\n",
       "      <td>47.0</td>\n",
       "    </tr>\n",
       "    <tr>\n",
       "      <th>2</th>\n",
       "      <td>2008</td>\n",
       "      <td>1</td>\n",
       "      <td>3</td>\n",
       "      <td>4</td>\n",
       "      <td>16:44</td>\n",
       "      <td>15:10</td>\n",
       "      <td>18:45</td>\n",
       "      <td>17:25</td>\n",
       "      <td>WN</td>\n",
       "      <td>1333</td>\n",
       "      <td>N334SW</td>\n",
       "      <td>121.0</td>\n",
       "      <td>135.0</td>\n",
       "      <td>107.0</td>\n",
       "      <td>80.0</td>\n",
       "      <td>94.0</td>\n",
       "      <td>IND</td>\n",
       "      <td>MCO</td>\n",
       "      <td>828</td>\n",
       "      <td>6.0</td>\n",
       "      <td>8.0</td>\n",
       "      <td>8.0</td>\n",
       "      <td>0.0</td>\n",
       "      <td>0.0</td>\n",
       "      <td>0.0</td>\n",
       "      <td>72.0</td>\n",
       "    </tr>\n",
       "    <tr>\n",
       "      <th>3</th>\n",
       "      <td>2008</td>\n",
       "      <td>1</td>\n",
       "      <td>3</td>\n",
       "      <td>4</td>\n",
       "      <td>14:52</td>\n",
       "      <td>14:25</td>\n",
       "      <td>16:40</td>\n",
       "      <td>16:25</td>\n",
       "      <td>WN</td>\n",
       "      <td>675</td>\n",
       "      <td>N286WN</td>\n",
       "      <td>228.0</td>\n",
       "      <td>240.0</td>\n",
       "      <td>213.0</td>\n",
       "      <td>15.0</td>\n",
       "      <td>27.0</td>\n",
       "      <td>IND</td>\n",
       "      <td>PHX</td>\n",
       "      <td>1489</td>\n",
       "      <td>7.0</td>\n",
       "      <td>8.0</td>\n",
       "      <td>3.0</td>\n",
       "      <td>0.0</td>\n",
       "      <td>0.0</td>\n",
       "      <td>0.0</td>\n",
       "      <td>12.0</td>\n",
       "    </tr>\n",
       "    <tr>\n",
       "      <th>4</th>\n",
       "      <td>2008</td>\n",
       "      <td>1</td>\n",
       "      <td>3</td>\n",
       "      <td>4</td>\n",
       "      <td>13:23</td>\n",
       "      <td>12:55</td>\n",
       "      <td>15:26</td>\n",
       "      <td>15:10</td>\n",
       "      <td>WN</td>\n",
       "      <td>4</td>\n",
       "      <td>N674AA</td>\n",
       "      <td>123.0</td>\n",
       "      <td>135.0</td>\n",
       "      <td>110.0</td>\n",
       "      <td>16.0</td>\n",
       "      <td>28.0</td>\n",
       "      <td>IND</td>\n",
       "      <td>TPA</td>\n",
       "      <td>838</td>\n",
       "      <td>4.0</td>\n",
       "      <td>9.0</td>\n",
       "      <td>0.0</td>\n",
       "      <td>0.0</td>\n",
       "      <td>0.0</td>\n",
       "      <td>0.0</td>\n",
       "      <td>16.0</td>\n",
       "    </tr>\n",
       "  </tbody>\n",
       "</table>\n",
       "</div>"
      ],
      "text/plain": [
       "   Year  Month  DayofMonth  DayOfWeek DepTime CRSDepTime ArrTime CRSArrTime  \\\n",
       "0  2008      1           3          4   18:29      17:55   19:59      19:25   \n",
       "1  2008      1           3          4   19:37      18:30   20:37      19:40   \n",
       "2  2008      1           3          4   16:44      15:10   18:45      17:25   \n",
       "3  2008      1           3          4   14:52      14:25   16:40      16:25   \n",
       "4  2008      1           3          4   13:23      12:55   15:26      15:10   \n",
       "\n",
       "  UniqueCarrier  FlightNum TailNum  ActualElapsedTime  CRSElapsedTime  \\\n",
       "0            WN       3920  N464WN               90.0            90.0   \n",
       "1            WN        509  N763SW              240.0           250.0   \n",
       "2            WN       1333  N334SW              121.0           135.0   \n",
       "3            WN        675  N286WN              228.0           240.0   \n",
       "4            WN          4  N674AA              123.0           135.0   \n",
       "\n",
       "   AirTime  ArrDelay  DepDelay Origin Dest  Distance  TaxiIn  TaxiOut  \\\n",
       "0     77.0      34.0      34.0    IND  BWI       515     3.0     10.0   \n",
       "1    230.0      57.0      67.0    IND  LAS      1591     3.0      7.0   \n",
       "2    107.0      80.0      94.0    IND  MCO       828     6.0      8.0   \n",
       "3    213.0      15.0      27.0    IND  PHX      1489     7.0      8.0   \n",
       "4    110.0      16.0      28.0    IND  TPA       838     4.0      9.0   \n",
       "\n",
       "   CarrierDelay  WeatherDelay  NASDelay  SecurityDelay  LateAircraftDelay  \n",
       "0           2.0           0.0       0.0            0.0               32.0  \n",
       "1          10.0           0.0       0.0            0.0               47.0  \n",
       "2           8.0           0.0       0.0            0.0               72.0  \n",
       "3           3.0           0.0       0.0            0.0               12.0  \n",
       "4           0.0           0.0       0.0            0.0               16.0  "
      ]
     },
     "execution_count": 6,
     "metadata": {},
     "output_type": "execute_result"
    }
   ],
   "source": [
    "df = pd.read_csv('flights_clean.csv')\n",
    "df.drop(['Unnamed: 0'],axis=1,inplace=True)\n",
    "df.drop_duplicates(inplace=True)\n",
    "df.head()"
   ]
  },
  {
   "cell_type": "code",
   "execution_count": 7,
   "metadata": {},
   "outputs": [
    {
     "name": "stdout",
     "output_type": "stream",
     "text": [
      "Int64Index([  18382,   32530,   33250,   33260,   33261,   33262,   33266,\n",
      "              33986,   35608,   40475,  109581,  122795,  151302,  153645,\n",
      "             161742,  221611,  237091,  237100,  237856,  238712,  271821,\n",
      "             272737,  283857,  288388,  290373,  292613,  292829,  325734,\n",
      "             363921,  364174,  364313,  364822,  368166,  409272,  464811,\n",
      "             465221,  504598,  562282,  562806,  591830,  594291,  594973,\n",
      "             607957,  643655,  659229,  692905,  693107,  693948,  694249,\n",
      "             734555,  736986,  739660,  769985,  811669,  811881,  812305,\n",
      "             812337,  812967,  813399,  813453,  818035,  851766,  858398,\n",
      "             879833,  880826,  890129,  900005,  912646,  913223,  913360,\n",
      "             913670,  913747,  913828,  915452,  941567,  978990,  979028,\n",
      "             979040,  979352, 1098233, 1098297, 1218768, 1231561, 1231565,\n",
      "            1232287],\n",
      "           dtype='int64')\n"
     ]
    }
   ],
   "source": [
    "# miramos los indices donde el valor de AirTime is < 10 min\n",
    "indices = df[df['AirTime'] < 10 ].index\n",
    "print(indices)"
   ]
  },
  {
   "cell_type": "code",
   "execution_count": 8,
   "metadata": {},
   "outputs": [],
   "source": [
    "# elimino estos indice en particular\n",
    "df.drop(indices, inplace = True) "
   ]
  },
  {
   "cell_type": "markdown",
   "metadata": {},
   "source": [
    "### Nivell 1\n",
    "\n",
    "# Exercici 1\n",
    "\n",
    "Crea almenys tres models de regressió diferents per intentar predir el millor possible l’endarreriment dels vols (ArrDelay) de DelayedFlights.csv."
   ]
  },
  {
   "cell_type": "markdown",
   "metadata": {},
   "source": [
    "## Exploratori Data Analysis (EDA)"
   ]
  },
  {
   "cell_type": "code",
   "execution_count": 9,
   "metadata": {},
   "outputs": [
    {
     "name": "stdout",
     "output_type": "stream",
     "text": [
      "(1247399,)\n"
     ]
    }
   ],
   "source": [
    "y = target = df['ArrDelay']\n",
    "print(y.shape)"
   ]
  },
  {
   "cell_type": "markdown",
   "metadata": {},
   "source": [
    "+ quines variables fem servir pels features (X)?"
   ]
  },
  {
   "cell_type": "code",
   "execution_count": 10,
   "metadata": {},
   "outputs": [],
   "source": [
    "df_subset = pd.DataFrame()"
   ]
  },
  {
   "cell_type": "code",
   "execution_count": 11,
   "metadata": {},
   "outputs": [],
   "source": [
    "df_subset['suma_delays'] = df[['CarrierDelay','WeatherDelay','NASDelay','SecurityDelay','LateAircraftDelay']].sum(axis=1)"
   ]
  },
  {
   "cell_type": "code",
   "execution_count": 12,
   "metadata": {},
   "outputs": [],
   "source": [
    "df_subset['difference_delays'] = df_subset['suma_delays'] - target"
   ]
  },
  {
   "cell_type": "code",
   "execution_count": 13,
   "metadata": {},
   "outputs": [
    {
     "data": {
      "text/plain": [
       "<AxesSubplot:xlabel='suma_delays', ylabel='difference_delays'>"
      ]
     },
     "execution_count": 13,
     "metadata": {},
     "output_type": "execute_result"
    },
    {
     "data": {
      "image/png": "[encoded data removed]",
      "text/plain": [
       "<Figure size 432x288 with 1 Axes>"
      ]
     },
     "metadata": {
      "needs_background": "light"
     },
     "output_type": "display_data"
    }
   ],
   "source": [
    "sns.scatterplot(x='suma_delays',y='difference_delays',data=df_subset)"
   ]
  },
  {
   "cell_type": "code",
   "execution_count": 14,
   "metadata": {},
   "outputs": [
    {
     "data": {
      "text/plain": [
       "True"
      ]
     },
     "execution_count": 14,
     "metadata": {},
     "output_type": "execute_result"
    }
   ],
   "source": [
    "np.any(df_subset.difference_delays == 0)"
   ]
  },
  {
   "cell_type": "markdown",
   "metadata": {},
   "source": [
    "+ la suma_delays es el mateix que ArrDelay, puc eliminar aquestes variables"
   ]
  },
  {
   "cell_type": "code",
   "execution_count": 15,
   "metadata": {},
   "outputs": [],
   "source": [
    "df_subset_2 = pd.DataFrame()"
   ]
  },
  {
   "cell_type": "code",
   "execution_count": 16,
   "metadata": {},
   "outputs": [],
   "source": [
    "df_subset_2['suma_air_taxis'] = df[['AirTime','TaxiIn','TaxiOut']].sum(axis=1)\n",
    "df_subset_2['ActualElapsedTime'] = df['ActualElapsedTime']"
   ]
  },
  {
   "cell_type": "code",
   "execution_count": 17,
   "metadata": {},
   "outputs": [
    {
     "data": {
      "text/html": [
       "<div>\n",
       "<style scoped>\n",
       "    .dataframe tbody tr th:only-of-type {\n",
       "        vertical-align: middle;\n",
       "    }\n",
       "\n",
       "    .dataframe tbody tr th {\n",
       "        vertical-align: top;\n",
       "    }\n",
       "\n",
       "    .dataframe thead th {\n",
       "        text-align: right;\n",
       "    }\n",
       "</style>\n",
       "<table border=\"1\" class=\"dataframe\">\n",
       "  <thead>\n",
       "    <tr style=\"text-align: right;\">\n",
       "      <th></th>\n",
       "      <th>suma_air_taxis</th>\n",
       "      <th>ActualElapsedTime</th>\n",
       "      <th>difference_air</th>\n",
       "    </tr>\n",
       "  </thead>\n",
       "  <tbody>\n",
       "    <tr>\n",
       "      <th>0</th>\n",
       "      <td>90.0</td>\n",
       "      <td>90.0</td>\n",
       "      <td>0.0</td>\n",
       "    </tr>\n",
       "    <tr>\n",
       "      <th>1</th>\n",
       "      <td>240.0</td>\n",
       "      <td>240.0</td>\n",
       "      <td>0.0</td>\n",
       "    </tr>\n",
       "    <tr>\n",
       "      <th>2</th>\n",
       "      <td>121.0</td>\n",
       "      <td>121.0</td>\n",
       "      <td>0.0</td>\n",
       "    </tr>\n",
       "    <tr>\n",
       "      <th>3</th>\n",
       "      <td>228.0</td>\n",
       "      <td>228.0</td>\n",
       "      <td>0.0</td>\n",
       "    </tr>\n",
       "    <tr>\n",
       "      <th>4</th>\n",
       "      <td>123.0</td>\n",
       "      <td>123.0</td>\n",
       "      <td>0.0</td>\n",
       "    </tr>\n",
       "    <tr>\n",
       "      <th>...</th>\n",
       "      <td>...</td>\n",
       "      <td>...</td>\n",
       "      <td>...</td>\n",
       "    </tr>\n",
       "    <tr>\n",
       "      <th>1247481</th>\n",
       "      <td>111.0</td>\n",
       "      <td>111.0</td>\n",
       "      <td>0.0</td>\n",
       "    </tr>\n",
       "    <tr>\n",
       "      <th>1247482</th>\n",
       "      <td>43.0</td>\n",
       "      <td>43.0</td>\n",
       "      <td>0.0</td>\n",
       "    </tr>\n",
       "    <tr>\n",
       "      <th>1247483</th>\n",
       "      <td>147.0</td>\n",
       "      <td>147.0</td>\n",
       "      <td>0.0</td>\n",
       "    </tr>\n",
       "    <tr>\n",
       "      <th>1247484</th>\n",
       "      <td>127.0</td>\n",
       "      <td>127.0</td>\n",
       "      <td>0.0</td>\n",
       "    </tr>\n",
       "    <tr>\n",
       "      <th>1247485</th>\n",
       "      <td>162.0</td>\n",
       "      <td>162.0</td>\n",
       "      <td>0.0</td>\n",
       "    </tr>\n",
       "  </tbody>\n",
       "</table>\n",
       "<p>1247399 rows × 3 columns</p>\n",
       "</div>"
      ],
      "text/plain": [
       "         suma_air_taxis  ActualElapsedTime  difference_air\n",
       "0                  90.0               90.0             0.0\n",
       "1                 240.0              240.0             0.0\n",
       "2                 121.0              121.0             0.0\n",
       "3                 228.0              228.0             0.0\n",
       "4                 123.0              123.0             0.0\n",
       "...                 ...                ...             ...\n",
       "1247481           111.0              111.0             0.0\n",
       "1247482            43.0               43.0             0.0\n",
       "1247483           147.0              147.0             0.0\n",
       "1247484           127.0              127.0             0.0\n",
       "1247485           162.0              162.0             0.0\n",
       "\n",
       "[1247399 rows x 3 columns]"
      ]
     },
     "execution_count": 17,
     "metadata": {},
     "output_type": "execute_result"
    }
   ],
   "source": [
    "df_subset_2['difference_air'] = df_subset_2['suma_air_taxis'] - df_subset_2['ActualElapsedTime']\n",
    "df_subset_2"
   ]
  },
  {
   "cell_type": "code",
   "execution_count": 18,
   "metadata": {},
   "outputs": [
    {
     "data": {
      "text/plain": [
       "<AxesSubplot:xlabel='suma_air_taxis', ylabel='difference_air'>"
      ]
     },
     "execution_count": 18,
     "metadata": {},
     "output_type": "execute_result"
    },
    {
     "data": {
      "image/png": "[encoded data removed]",
      "text/plain": [
       "<Figure size 432x288 with 1 Axes>"
      ]
     },
     "metadata": {
      "needs_background": "light"
     },
     "output_type": "display_data"
    }
   ],
   "source": [
    "sns.scatterplot(x='suma_air_taxis',y='difference_air',data=df_subset_2)"
   ]
  },
  {
   "cell_type": "markdown",
   "metadata": {},
   "source": [
    "+ la suma de AirTime i els Taxis es el mateix que ActualElapsedTime i  puc eliminar aquestes variables"
   ]
  },
  {
   "cell_type": "code",
   "execution_count": 19,
   "metadata": {},
   "outputs": [],
   "source": [
    "df.drop(columns=['CarrierDelay','WeatherDelay','NASDelay','SecurityDelay','LateAircraftDelay'],axis=1,inplace=True)"
   ]
  },
  {
   "cell_type": "code",
   "execution_count": 20,
   "metadata": {},
   "outputs": [],
   "source": [
    "df.drop(columns=['AirTime','TaxiIn','TaxiOut'],axis=1,inplace=True)"
   ]
  },
  {
   "cell_type": "code",
   "execution_count": 21,
   "metadata": {},
   "outputs": [
    {
     "data": {
      "text/html": [
       "<div>\n",
       "<style scoped>\n",
       "    .dataframe tbody tr th:only-of-type {\n",
       "        vertical-align: middle;\n",
       "    }\n",
       "\n",
       "    .dataframe tbody tr th {\n",
       "        vertical-align: top;\n",
       "    }\n",
       "\n",
       "    .dataframe thead th {\n",
       "        text-align: right;\n",
       "    }\n",
       "</style>\n",
       "<table border=\"1\" class=\"dataframe\">\n",
       "  <thead>\n",
       "    <tr style=\"text-align: right;\">\n",
       "      <th></th>\n",
       "      <th>Year</th>\n",
       "      <th>Month</th>\n",
       "      <th>DayofMonth</th>\n",
       "      <th>DayOfWeek</th>\n",
       "      <th>DepTime</th>\n",
       "      <th>CRSDepTime</th>\n",
       "      <th>ArrTime</th>\n",
       "      <th>CRSArrTime</th>\n",
       "      <th>UniqueCarrier</th>\n",
       "      <th>FlightNum</th>\n",
       "      <th>TailNum</th>\n",
       "      <th>ActualElapsedTime</th>\n",
       "      <th>CRSElapsedTime</th>\n",
       "      <th>ArrDelay</th>\n",
       "      <th>DepDelay</th>\n",
       "      <th>Origin</th>\n",
       "      <th>Dest</th>\n",
       "      <th>Distance</th>\n",
       "    </tr>\n",
       "  </thead>\n",
       "  <tbody>\n",
       "    <tr>\n",
       "      <th>0</th>\n",
       "      <td>2008</td>\n",
       "      <td>1</td>\n",
       "      <td>3</td>\n",
       "      <td>4</td>\n",
       "      <td>18:29</td>\n",
       "      <td>17:55</td>\n",
       "      <td>19:59</td>\n",
       "      <td>19:25</td>\n",
       "      <td>WN</td>\n",
       "      <td>3920</td>\n",
       "      <td>N464WN</td>\n",
       "      <td>90.0</td>\n",
       "      <td>90.0</td>\n",
       "      <td>34.0</td>\n",
       "      <td>34.0</td>\n",
       "      <td>IND</td>\n",
       "      <td>BWI</td>\n",
       "      <td>515</td>\n",
       "    </tr>\n",
       "    <tr>\n",
       "      <th>1</th>\n",
       "      <td>2008</td>\n",
       "      <td>1</td>\n",
       "      <td>3</td>\n",
       "      <td>4</td>\n",
       "      <td>19:37</td>\n",
       "      <td>18:30</td>\n",
       "      <td>20:37</td>\n",
       "      <td>19:40</td>\n",
       "      <td>WN</td>\n",
       "      <td>509</td>\n",
       "      <td>N763SW</td>\n",
       "      <td>240.0</td>\n",
       "      <td>250.0</td>\n",
       "      <td>57.0</td>\n",
       "      <td>67.0</td>\n",
       "      <td>IND</td>\n",
       "      <td>LAS</td>\n",
       "      <td>1591</td>\n",
       "    </tr>\n",
       "    <tr>\n",
       "      <th>2</th>\n",
       "      <td>2008</td>\n",
       "      <td>1</td>\n",
       "      <td>3</td>\n",
       "      <td>4</td>\n",
       "      <td>16:44</td>\n",
       "      <td>15:10</td>\n",
       "      <td>18:45</td>\n",
       "      <td>17:25</td>\n",
       "      <td>WN</td>\n",
       "      <td>1333</td>\n",
       "      <td>N334SW</td>\n",
       "      <td>121.0</td>\n",
       "      <td>135.0</td>\n",
       "      <td>80.0</td>\n",
       "      <td>94.0</td>\n",
       "      <td>IND</td>\n",
       "      <td>MCO</td>\n",
       "      <td>828</td>\n",
       "    </tr>\n",
       "    <tr>\n",
       "      <th>3</th>\n",
       "      <td>2008</td>\n",
       "      <td>1</td>\n",
       "      <td>3</td>\n",
       "      <td>4</td>\n",
       "      <td>14:52</td>\n",
       "      <td>14:25</td>\n",
       "      <td>16:40</td>\n",
       "      <td>16:25</td>\n",
       "      <td>WN</td>\n",
       "      <td>675</td>\n",
       "      <td>N286WN</td>\n",
       "      <td>228.0</td>\n",
       "      <td>240.0</td>\n",
       "      <td>15.0</td>\n",
       "      <td>27.0</td>\n",
       "      <td>IND</td>\n",
       "      <td>PHX</td>\n",
       "      <td>1489</td>\n",
       "    </tr>\n",
       "    <tr>\n",
       "      <th>4</th>\n",
       "      <td>2008</td>\n",
       "      <td>1</td>\n",
       "      <td>3</td>\n",
       "      <td>4</td>\n",
       "      <td>13:23</td>\n",
       "      <td>12:55</td>\n",
       "      <td>15:26</td>\n",
       "      <td>15:10</td>\n",
       "      <td>WN</td>\n",
       "      <td>4</td>\n",
       "      <td>N674AA</td>\n",
       "      <td>123.0</td>\n",
       "      <td>135.0</td>\n",
       "      <td>16.0</td>\n",
       "      <td>28.0</td>\n",
       "      <td>IND</td>\n",
       "      <td>TPA</td>\n",
       "      <td>838</td>\n",
       "    </tr>\n",
       "  </tbody>\n",
       "</table>\n",
       "</div>"
      ],
      "text/plain": [
       "   Year  Month  DayofMonth  DayOfWeek DepTime CRSDepTime ArrTime CRSArrTime  \\\n",
       "0  2008      1           3          4   18:29      17:55   19:59      19:25   \n",
       "1  2008      1           3          4   19:37      18:30   20:37      19:40   \n",
       "2  2008      1           3          4   16:44      15:10   18:45      17:25   \n",
       "3  2008      1           3          4   14:52      14:25   16:40      16:25   \n",
       "4  2008      1           3          4   13:23      12:55   15:26      15:10   \n",
       "\n",
       "  UniqueCarrier  FlightNum TailNum  ActualElapsedTime  CRSElapsedTime  \\\n",
       "0            WN       3920  N464WN               90.0            90.0   \n",
       "1            WN        509  N763SW              240.0           250.0   \n",
       "2            WN       1333  N334SW              121.0           135.0   \n",
       "3            WN        675  N286WN              228.0           240.0   \n",
       "4            WN          4  N674AA              123.0           135.0   \n",
       "\n",
       "   ArrDelay  DepDelay Origin Dest  Distance  \n",
       "0      34.0      34.0    IND  BWI       515  \n",
       "1      57.0      67.0    IND  LAS      1591  \n",
       "2      80.0      94.0    IND  MCO       828  \n",
       "3      15.0      27.0    IND  PHX      1489  \n",
       "4      16.0      28.0    IND  TPA       838  "
      ]
     },
     "execution_count": 21,
     "metadata": {},
     "output_type": "execute_result"
    }
   ],
   "source": [
    "df.head()"
   ]
  },
  {
   "cell_type": "code",
   "execution_count": 24,
   "metadata": {},
   "outputs": [
    {
     "name": "stdout",
     "output_type": "stream",
     "text": [
      "(1247399, 7)\n"
     ]
    }
   ],
   "source": [
    "# mirem variables numeriques\n",
    "X = df[['Month','DayofMonth','DayOfWeek','ActualElapsedTime','CRSElapsedTime','DepDelay','Distance']]\n",
    "print(X.shape)"
   ]
  },
  {
   "cell_type": "code",
   "execution_count": 25,
   "metadata": {},
   "outputs": [
    {
     "data": {
      "text/html": [
       "<div>\n",
       "<style scoped>\n",
       "    .dataframe tbody tr th:only-of-type {\n",
       "        vertical-align: middle;\n",
       "    }\n",
       "\n",
       "    .dataframe tbody tr th {\n",
       "        vertical-align: top;\n",
       "    }\n",
       "\n",
       "    .dataframe thead th {\n",
       "        text-align: right;\n",
       "    }\n",
       "</style>\n",
       "<table border=\"1\" class=\"dataframe\">\n",
       "  <thead>\n",
       "    <tr style=\"text-align: right;\">\n",
       "      <th></th>\n",
       "      <th>Month</th>\n",
       "      <th>DayofMonth</th>\n",
       "      <th>DayOfWeek</th>\n",
       "      <th>ActualElapsedTime</th>\n",
       "      <th>CRSElapsedTime</th>\n",
       "      <th>DepDelay</th>\n",
       "      <th>Distance</th>\n",
       "    </tr>\n",
       "  </thead>\n",
       "  <tbody>\n",
       "    <tr>\n",
       "      <th>0</th>\n",
       "      <td>1</td>\n",
       "      <td>3</td>\n",
       "      <td>4</td>\n",
       "      <td>90.0</td>\n",
       "      <td>90.0</td>\n",
       "      <td>34.0</td>\n",
       "      <td>515</td>\n",
       "    </tr>\n",
       "    <tr>\n",
       "      <th>1</th>\n",
       "      <td>1</td>\n",
       "      <td>3</td>\n",
       "      <td>4</td>\n",
       "      <td>240.0</td>\n",
       "      <td>250.0</td>\n",
       "      <td>67.0</td>\n",
       "      <td>1591</td>\n",
       "    </tr>\n",
       "    <tr>\n",
       "      <th>2</th>\n",
       "      <td>1</td>\n",
       "      <td>3</td>\n",
       "      <td>4</td>\n",
       "      <td>121.0</td>\n",
       "      <td>135.0</td>\n",
       "      <td>94.0</td>\n",
       "      <td>828</td>\n",
       "    </tr>\n",
       "    <tr>\n",
       "      <th>3</th>\n",
       "      <td>1</td>\n",
       "      <td>3</td>\n",
       "      <td>4</td>\n",
       "      <td>228.0</td>\n",
       "      <td>240.0</td>\n",
       "      <td>27.0</td>\n",
       "      <td>1489</td>\n",
       "    </tr>\n",
       "    <tr>\n",
       "      <th>4</th>\n",
       "      <td>1</td>\n",
       "      <td>3</td>\n",
       "      <td>4</td>\n",
       "      <td>123.0</td>\n",
       "      <td>135.0</td>\n",
       "      <td>28.0</td>\n",
       "      <td>838</td>\n",
       "    </tr>\n",
       "  </tbody>\n",
       "</table>\n",
       "</div>"
      ],
      "text/plain": [
       "   Month  DayofMonth  DayOfWeek  ActualElapsedTime  CRSElapsedTime  DepDelay  \\\n",
       "0      1           3          4               90.0            90.0      34.0   \n",
       "1      1           3          4              240.0           250.0      67.0   \n",
       "2      1           3          4              121.0           135.0      94.0   \n",
       "3      1           3          4              228.0           240.0      27.0   \n",
       "4      1           3          4              123.0           135.0      28.0   \n",
       "\n",
       "   Distance  \n",
       "0       515  \n",
       "1      1591  \n",
       "2       828  \n",
       "3      1489  \n",
       "4       838  "
      ]
     },
     "execution_count": 25,
     "metadata": {},
     "output_type": "execute_result"
    }
   ],
   "source": [
    "X.head()"
   ]
  },
  {
   "cell_type": "code",
   "execution_count": 26,
   "metadata": {},
   "outputs": [
    {
     "data": {
      "image/png": "[encoded data removed]",
      "text/plain": [
       "<Figure size 432x288 with 2 Axes>"
      ]
     },
     "metadata": {
      "needs_background": "light"
     },
     "output_type": "display_data"
    }
   ],
   "source": [
    "# existeix alguna correlació entre aquestes variables numeriques?\n",
    "corr = X.corr()\n",
    "sns.heatmap(corr,cmap='coolwarm',vmax=1, vmin=-1)\n",
    "plt.show()"
   ]
  },
  {
   "cell_type": "markdown",
   "metadata": {},
   "source": [
    "+ hem de seleccionar aquelles variables independents i que tinguin poca correlacio entre elles al model final. Si no fos aixi s'introdueix error al modelatge\n",
    "+ ActualElapsedTime and CRSElapsedTime estan molt relacionades (una es el valor real i l'altre el esperat)\n",
    "+ ActualElapsedTime i Distance tambe estan molt relaciondes : speed = Distance/ActualElapsedTime\n"
   ]
  },
  {
   "cell_type": "code",
   "execution_count": 27,
   "metadata": {},
   "outputs": [
    {
     "data": {
      "text/plain": [
       "<AxesSubplot:xlabel='ActualElapsedTime', ylabel='CRSElapsedTime'>"
      ]
     },
     "execution_count": 27,
     "metadata": {},
     "output_type": "execute_result"
    },
    {
     "data": {
      "image/png": "[encoded data removed]",
      "text/plain": [
       "<Figure size 432x288 with 1 Axes>"
      ]
     },
     "metadata": {
      "needs_background": "light"
     },
     "output_type": "display_data"
    }
   ],
   "source": [
    "# visualitzem la relacio entre aquestes dues variables relacionades\n",
    "sns.scatterplot(x='ActualElapsedTime',y = 'CRSElapsedTime',data=X)"
   ]
  },
  {
   "cell_type": "markdown",
   "metadata": {},
   "source": [
    "+ Despres ja farem un FEATURE ENGINEERING per corregir aixo"
   ]
  },
  {
   "cell_type": "code",
   "execution_count": 28,
   "metadata": {},
   "outputs": [
    {
     "data": {
      "text/plain": [
       "<AxesSubplot:xlabel='Distance', ylabel='ActualElapsedTime'>"
      ]
     },
     "execution_count": 28,
     "metadata": {},
     "output_type": "execute_result"
    },
    {
     "data": {
      "image/png": "[encoded data removed]",
      "text/plain": [
       "<Figure size 432x288 with 1 Axes>"
      ]
     },
     "metadata": {
      "needs_background": "light"
     },
     "output_type": "display_data"
    }
   ],
   "source": [
    "sns.scatterplot(x='Distance', y='ActualElapsedTime',hue='CRSElapsedTime',data=X)"
   ]
  },
  {
   "cell_type": "markdown",
   "metadata": {},
   "source": [
    "+ Speed  = Distance/CRSElapsedTime \n",
    "\n",
    "+ Despres ja farem FEATURE ENGINEERING"
   ]
  },
  {
   "cell_type": "code",
   "execution_count": 29,
   "metadata": {},
   "outputs": [
    {
     "data": {
      "text/html": [
       "<div>\n",
       "<style scoped>\n",
       "    .dataframe tbody tr th:only-of-type {\n",
       "        vertical-align: middle;\n",
       "    }\n",
       "\n",
       "    .dataframe tbody tr th {\n",
       "        vertical-align: top;\n",
       "    }\n",
       "\n",
       "    .dataframe thead th {\n",
       "        text-align: right;\n",
       "    }\n",
       "</style>\n",
       "<table border=\"1\" class=\"dataframe\">\n",
       "  <thead>\n",
       "    <tr style=\"text-align: right;\">\n",
       "      <th></th>\n",
       "      <th>Month</th>\n",
       "      <th>DayofMonth</th>\n",
       "      <th>DayOfWeek</th>\n",
       "      <th>ActualElapsedTime</th>\n",
       "      <th>CRSElapsedTime</th>\n",
       "      <th>DepDelay</th>\n",
       "      <th>Distance</th>\n",
       "    </tr>\n",
       "  </thead>\n",
       "  <tbody>\n",
       "    <tr>\n",
       "      <th>count</th>\n",
       "      <td>1247399.00</td>\n",
       "      <td>1247399.00</td>\n",
       "      <td>1247399.00</td>\n",
       "      <td>1247399.00</td>\n",
       "      <td>1247399.00</td>\n",
       "      <td>1247399.00</td>\n",
       "      <td>1247399.00</td>\n",
       "    </tr>\n",
       "    <tr>\n",
       "      <th>mean</th>\n",
       "      <td>6.07</td>\n",
       "      <td>15.73</td>\n",
       "      <td>3.98</td>\n",
       "      <td>135.38</td>\n",
       "      <td>131.77</td>\n",
       "      <td>59.68</td>\n",
       "      <td>741.63</td>\n",
       "    </tr>\n",
       "    <tr>\n",
       "      <th>std</th>\n",
       "      <td>3.51</td>\n",
       "      <td>8.79</td>\n",
       "      <td>1.99</td>\n",
       "      <td>72.29</td>\n",
       "      <td>69.53</td>\n",
       "      <td>59.87</td>\n",
       "      <td>559.36</td>\n",
       "    </tr>\n",
       "    <tr>\n",
       "      <th>min</th>\n",
       "      <td>1.00</td>\n",
       "      <td>1.00</td>\n",
       "      <td>1.00</td>\n",
       "      <td>15.00</td>\n",
       "      <td>-21.00</td>\n",
       "      <td>6.00</td>\n",
       "      <td>11.00</td>\n",
       "    </tr>\n",
       "    <tr>\n",
       "      <th>25%</th>\n",
       "      <td>3.00</td>\n",
       "      <td>8.00</td>\n",
       "      <td>2.00</td>\n",
       "      <td>83.00</td>\n",
       "      <td>80.00</td>\n",
       "      <td>24.00</td>\n",
       "      <td>334.00</td>\n",
       "    </tr>\n",
       "    <tr>\n",
       "      <th>50%</th>\n",
       "      <td>6.00</td>\n",
       "      <td>16.00</td>\n",
       "      <td>4.00</td>\n",
       "      <td>118.00</td>\n",
       "      <td>115.00</td>\n",
       "      <td>41.00</td>\n",
       "      <td>595.00</td>\n",
       "    </tr>\n",
       "    <tr>\n",
       "      <th>75%</th>\n",
       "      <td>9.00</td>\n",
       "      <td>23.00</td>\n",
       "      <td>6.00</td>\n",
       "      <td>167.00</td>\n",
       "      <td>161.00</td>\n",
       "      <td>75.00</td>\n",
       "      <td>972.00</td>\n",
       "    </tr>\n",
       "    <tr>\n",
       "      <th>max</th>\n",
       "      <td>12.00</td>\n",
       "      <td>31.00</td>\n",
       "      <td>7.00</td>\n",
       "      <td>1114.00</td>\n",
       "      <td>660.00</td>\n",
       "      <td>2467.00</td>\n",
       "      <td>4962.00</td>\n",
       "    </tr>\n",
       "  </tbody>\n",
       "</table>\n",
       "</div>"
      ],
      "text/plain": [
       "            Month  DayofMonth   DayOfWeek  ActualElapsedTime  CRSElapsedTime  \\\n",
       "count  1247399.00  1247399.00  1247399.00         1247399.00      1247399.00   \n",
       "mean         6.07       15.73        3.98             135.38          131.77   \n",
       "std          3.51        8.79        1.99              72.29           69.53   \n",
       "min          1.00        1.00        1.00              15.00          -21.00   \n",
       "25%          3.00        8.00        2.00              83.00           80.00   \n",
       "50%          6.00       16.00        4.00             118.00          115.00   \n",
       "75%          9.00       23.00        6.00             167.00          161.00   \n",
       "max         12.00       31.00        7.00            1114.00          660.00   \n",
       "\n",
       "         DepDelay    Distance  \n",
       "count  1247399.00  1247399.00  \n",
       "mean        59.68      741.63  \n",
       "std         59.87      559.36  \n",
       "min          6.00       11.00  \n",
       "25%         24.00      334.00  \n",
       "50%         41.00      595.00  \n",
       "75%         75.00      972.00  \n",
       "max       2467.00     4962.00  "
      ]
     },
     "execution_count": 29,
     "metadata": {},
     "output_type": "execute_result"
    }
   ],
   "source": [
    "X.describe().round(2)"
   ]
  },
  {
   "cell_type": "markdown",
   "metadata": {},
   "source": [
    "+ veiem que DepDelay o distance tenen desviacions grans"
   ]
  },
  {
   "cell_type": "code",
   "execution_count": 30,
   "metadata": {},
   "outputs": [
    {
     "data": {
      "image/png": "[encoded data removed]",
      "text/plain": [
       "<Figure size 432x288 with 1 Axes>"
      ]
     },
     "metadata": {
      "needs_background": "light"
     },
     "output_type": "display_data"
    }
   ],
   "source": [
    "# anem a mirar si hi han molts outliers dins de cada columna\n",
    "box = X.boxplot(rot=90)"
   ]
  },
  {
   "cell_type": "code",
   "execution_count": 33,
   "metadata": {},
   "outputs": [
    {
     "data": {
      "text/html": [
       "<div>\n",
       "<style scoped>\n",
       "    .dataframe tbody tr th:only-of-type {\n",
       "        vertical-align: middle;\n",
       "    }\n",
       "\n",
       "    .dataframe tbody tr th {\n",
       "        vertical-align: top;\n",
       "    }\n",
       "\n",
       "    .dataframe thead th {\n",
       "        text-align: right;\n",
       "    }\n",
       "</style>\n",
       "<table border=\"1\" class=\"dataframe\">\n",
       "  <thead>\n",
       "    <tr style=\"text-align: right;\">\n",
       "      <th></th>\n",
       "      <th>Year</th>\n",
       "      <th>Month</th>\n",
       "      <th>DayofMonth</th>\n",
       "      <th>DayOfWeek</th>\n",
       "      <th>DepTime</th>\n",
       "      <th>CRSDepTime</th>\n",
       "      <th>ArrTime</th>\n",
       "      <th>CRSArrTime</th>\n",
       "      <th>UniqueCarrier</th>\n",
       "      <th>FlightNum</th>\n",
       "      <th>TailNum</th>\n",
       "      <th>ActualElapsedTime</th>\n",
       "      <th>CRSElapsedTime</th>\n",
       "      <th>ArrDelay</th>\n",
       "      <th>DepDelay</th>\n",
       "      <th>Origin</th>\n",
       "      <th>Dest</th>\n",
       "      <th>Distance</th>\n",
       "    </tr>\n",
       "  </thead>\n",
       "  <tbody>\n",
       "    <tr>\n",
       "      <th>114923</th>\n",
       "      <td>2008</td>\n",
       "      <td>1</td>\n",
       "      <td>11</td>\n",
       "      <td>5</td>\n",
       "      <td>13:44</td>\n",
       "      <td>13:20</td>\n",
       "      <td>19:47</td>\n",
       "      <td>19:20</td>\n",
       "      <td>CO</td>\n",
       "      <td>15</td>\n",
       "      <td>N78060</td>\n",
       "      <td>663.0</td>\n",
       "      <td>660.0</td>\n",
       "      <td>27.0</td>\n",
       "      <td>24.0</td>\n",
       "      <td>EWR</td>\n",
       "      <td>HNL</td>\n",
       "      <td>4962</td>\n",
       "    </tr>\n",
       "    <tr>\n",
       "      <th>115545</th>\n",
       "      <td>2008</td>\n",
       "      <td>1</td>\n",
       "      <td>20</td>\n",
       "      <td>7</td>\n",
       "      <td>13:32</td>\n",
       "      <td>13:20</td>\n",
       "      <td>19:39</td>\n",
       "      <td>19:20</td>\n",
       "      <td>CO</td>\n",
       "      <td>15</td>\n",
       "      <td>N67052</td>\n",
       "      <td>667.0</td>\n",
       "      <td>660.0</td>\n",
       "      <td>19.0</td>\n",
       "      <td>12.0</td>\n",
       "      <td>EWR</td>\n",
       "      <td>HNL</td>\n",
       "      <td>4962</td>\n",
       "    </tr>\n",
       "    <tr>\n",
       "      <th>115555</th>\n",
       "      <td>2008</td>\n",
       "      <td>1</td>\n",
       "      <td>22</td>\n",
       "      <td>2</td>\n",
       "      <td>14:41</td>\n",
       "      <td>13:20</td>\n",
       "      <td>20:16</td>\n",
       "      <td>19:20</td>\n",
       "      <td>CO</td>\n",
       "      <td>15</td>\n",
       "      <td>N78060</td>\n",
       "      <td>635.0</td>\n",
       "      <td>660.0</td>\n",
       "      <td>56.0</td>\n",
       "      <td>81.0</td>\n",
       "      <td>EWR</td>\n",
       "      <td>HNL</td>\n",
       "      <td>4962</td>\n",
       "    </tr>\n",
       "    <tr>\n",
       "      <th>115762</th>\n",
       "      <td>2008</td>\n",
       "      <td>1</td>\n",
       "      <td>23</td>\n",
       "      <td>3</td>\n",
       "      <td>14:40</td>\n",
       "      <td>13:20</td>\n",
       "      <td>19:54</td>\n",
       "      <td>19:20</td>\n",
       "      <td>CO</td>\n",
       "      <td>15</td>\n",
       "      <td>N68061</td>\n",
       "      <td>614.0</td>\n",
       "      <td>660.0</td>\n",
       "      <td>34.0</td>\n",
       "      <td>80.0</td>\n",
       "      <td>EWR</td>\n",
       "      <td>HNL</td>\n",
       "      <td>4962</td>\n",
       "    </tr>\n",
       "    <tr>\n",
       "      <th>115862</th>\n",
       "      <td>2008</td>\n",
       "      <td>1</td>\n",
       "      <td>4</td>\n",
       "      <td>5</td>\n",
       "      <td>13:39</td>\n",
       "      <td>13:20</td>\n",
       "      <td>19:40</td>\n",
       "      <td>19:20</td>\n",
       "      <td>CO</td>\n",
       "      <td>15</td>\n",
       "      <td>N66057</td>\n",
       "      <td>661.0</td>\n",
       "      <td>660.0</td>\n",
       "      <td>20.0</td>\n",
       "      <td>19.0</td>\n",
       "      <td>EWR</td>\n",
       "      <td>HNL</td>\n",
       "      <td>4962</td>\n",
       "    </tr>\n",
       "    <tr>\n",
       "      <th>...</th>\n",
       "      <td>...</td>\n",
       "      <td>...</td>\n",
       "      <td>...</td>\n",
       "      <td>...</td>\n",
       "      <td>...</td>\n",
       "      <td>...</td>\n",
       "      <td>...</td>\n",
       "      <td>...</td>\n",
       "      <td>...</td>\n",
       "      <td>...</td>\n",
       "      <td>...</td>\n",
       "      <td>...</td>\n",
       "      <td>...</td>\n",
       "      <td>...</td>\n",
       "      <td>...</td>\n",
       "      <td>...</td>\n",
       "      <td>...</td>\n",
       "      <td>...</td>\n",
       "    </tr>\n",
       "    <tr>\n",
       "      <th>1242818</th>\n",
       "      <td>2008</td>\n",
       "      <td>12</td>\n",
       "      <td>11</td>\n",
       "      <td>4</td>\n",
       "      <td>15:03</td>\n",
       "      <td>13:35</td>\n",
       "      <td>20:28</td>\n",
       "      <td>19:35</td>\n",
       "      <td>CO</td>\n",
       "      <td>15</td>\n",
       "      <td>N59053</td>\n",
       "      <td>625.0</td>\n",
       "      <td>660.0</td>\n",
       "      <td>53.0</td>\n",
       "      <td>88.0</td>\n",
       "      <td>EWR</td>\n",
       "      <td>HNL</td>\n",
       "      <td>4962</td>\n",
       "    </tr>\n",
       "    <tr>\n",
       "      <th>1243641</th>\n",
       "      <td>2008</td>\n",
       "      <td>12</td>\n",
       "      <td>8</td>\n",
       "      <td>1</td>\n",
       "      <td>01:04</td>\n",
       "      <td>20:55</td>\n",
       "      <td>16:19</td>\n",
       "      <td>11:20</td>\n",
       "      <td>CO</td>\n",
       "      <td>14</td>\n",
       "      <td>N68061</td>\n",
       "      <td>615.0</td>\n",
       "      <td>565.0</td>\n",
       "      <td>299.0</td>\n",
       "      <td>249.0</td>\n",
       "      <td>HNL</td>\n",
       "      <td>EWR</td>\n",
       "      <td>4962</td>\n",
       "    </tr>\n",
       "    <tr>\n",
       "      <th>1243698</th>\n",
       "      <td>2008</td>\n",
       "      <td>12</td>\n",
       "      <td>7</td>\n",
       "      <td>7</td>\n",
       "      <td>14:35</td>\n",
       "      <td>13:35</td>\n",
       "      <td>20:12</td>\n",
       "      <td>19:35</td>\n",
       "      <td>CO</td>\n",
       "      <td>15</td>\n",
       "      <td>N68061</td>\n",
       "      <td>637.0</td>\n",
       "      <td>660.0</td>\n",
       "      <td>37.0</td>\n",
       "      <td>60.0</td>\n",
       "      <td>EWR</td>\n",
       "      <td>HNL</td>\n",
       "      <td>4962</td>\n",
       "    </tr>\n",
       "    <tr>\n",
       "      <th>1243967</th>\n",
       "      <td>2008</td>\n",
       "      <td>12</td>\n",
       "      <td>3</td>\n",
       "      <td>3</td>\n",
       "      <td>14:41</td>\n",
       "      <td>13:35</td>\n",
       "      <td>20:05</td>\n",
       "      <td>19:35</td>\n",
       "      <td>CO</td>\n",
       "      <td>15</td>\n",
       "      <td>N67052</td>\n",
       "      <td>624.0</td>\n",
       "      <td>660.0</td>\n",
       "      <td>30.0</td>\n",
       "      <td>66.0</td>\n",
       "      <td>EWR</td>\n",
       "      <td>HNL</td>\n",
       "      <td>4962</td>\n",
       "    </tr>\n",
       "    <tr>\n",
       "      <th>1244065</th>\n",
       "      <td>2008</td>\n",
       "      <td>12</td>\n",
       "      <td>2</td>\n",
       "      <td>2</td>\n",
       "      <td>14:35</td>\n",
       "      <td>13:35</td>\n",
       "      <td>20:13</td>\n",
       "      <td>19:35</td>\n",
       "      <td>CO</td>\n",
       "      <td>15</td>\n",
       "      <td>N66051</td>\n",
       "      <td>638.0</td>\n",
       "      <td>660.0</td>\n",
       "      <td>38.0</td>\n",
       "      <td>60.0</td>\n",
       "      <td>EWR</td>\n",
       "      <td>HNL</td>\n",
       "      <td>4962</td>\n",
       "    </tr>\n",
       "  </tbody>\n",
       "</table>\n",
       "<p>153 rows × 18 columns</p>\n",
       "</div>"
      ],
      "text/plain": [
       "         Year  Month  DayofMonth  DayOfWeek DepTime CRSDepTime ArrTime  \\\n",
       "114923   2008      1          11          5   13:44      13:20   19:47   \n",
       "115545   2008      1          20          7   13:32      13:20   19:39   \n",
       "115555   2008      1          22          2   14:41      13:20   20:16   \n",
       "115762   2008      1          23          3   14:40      13:20   19:54   \n",
       "115862   2008      1           4          5   13:39      13:20   19:40   \n",
       "...       ...    ...         ...        ...     ...        ...     ...   \n",
       "1242818  2008     12          11          4   15:03      13:35   20:28   \n",
       "1243641  2008     12           8          1   01:04      20:55   16:19   \n",
       "1243698  2008     12           7          7   14:35      13:35   20:12   \n",
       "1243967  2008     12           3          3   14:41      13:35   20:05   \n",
       "1244065  2008     12           2          2   14:35      13:35   20:13   \n",
       "\n",
       "        CRSArrTime UniqueCarrier  FlightNum TailNum  ActualElapsedTime  \\\n",
       "114923       19:20            CO         15  N78060              663.0   \n",
       "115545       19:20            CO         15  N67052              667.0   \n",
       "115555       19:20            CO         15  N78060              635.0   \n",
       "115762       19:20            CO         15  N68061              614.0   \n",
       "115862       19:20            CO         15  N66057              661.0   \n",
       "...            ...           ...        ...     ...                ...   \n",
       "1242818      19:35            CO         15  N59053              625.0   \n",
       "1243641      11:20            CO         14  N68061              615.0   \n",
       "1243698      19:35            CO         15  N68061              637.0   \n",
       "1243967      19:35            CO         15  N67052              624.0   \n",
       "1244065      19:35            CO         15  N66051              638.0   \n",
       "\n",
       "         CRSElapsedTime  ArrDelay  DepDelay Origin Dest  Distance  \n",
       "114923            660.0      27.0      24.0    EWR  HNL      4962  \n",
       "115545            660.0      19.0      12.0    EWR  HNL      4962  \n",
       "115555            660.0      56.0      81.0    EWR  HNL      4962  \n",
       "115762            660.0      34.0      80.0    EWR  HNL      4962  \n",
       "115862            660.0      20.0      19.0    EWR  HNL      4962  \n",
       "...                 ...       ...       ...    ...  ...       ...  \n",
       "1242818           660.0      53.0      88.0    EWR  HNL      4962  \n",
       "1243641           565.0     299.0     249.0    HNL  EWR      4962  \n",
       "1243698           660.0      37.0      60.0    EWR  HNL      4962  \n",
       "1243967           660.0      30.0      66.0    EWR  HNL      4962  \n",
       "1244065           660.0      38.0      60.0    EWR  HNL      4962  \n",
       "\n",
       "[153 rows x 18 columns]"
      ]
     },
     "execution_count": 33,
     "metadata": {},
     "output_type": "execute_result"
    }
   ],
   "source": [
    "df[df['Distance']>4900]"
   ]
  },
  {
   "cell_type": "markdown",
   "metadata": {},
   "source": [
    "+ tot i que hi han outliers no els trec perque per exemple un vol amb una distancia molt llarga (considerat outlier) no significa que sigui una anomalia. Aquests vols van de EWR ->NEWARK (NEW YORK) a HNL->HONOLULU (HAWAI) o viceversa\n",
    "\n",
    "+ de la mateixa manera cada columna te els seus outliers pero s'hauria de mirar un a un si es treuen o no"
   ]
  },
  {
   "cell_type": "code",
   "execution_count": 34,
   "metadata": {},
   "outputs": [],
   "source": [
    "#save this clean data for future references\n",
    "df.to_csv('flights_clean_v2.csv', index = False)"
   ]
  },
  {
   "cell_type": "markdown",
   "metadata": {},
   "source": [
    "#### faig servir totes les dades per aquest primer exercici"
   ]
  },
  {
   "cell_type": "code",
   "execution_count": 35,
   "metadata": {},
   "outputs": [],
   "source": [
    "# model de regressio 1: lineal\n",
    "from sklearn.linear_model import LinearRegression\n",
    "# metode lineal basat en Ordinary Least Squares (OLS)\n",
    "linear_model = LinearRegression()"
   ]
  },
  {
   "cell_type": "code",
   "execution_count": 36,
   "metadata": {},
   "outputs": [
    {
     "name": "stdout",
     "output_type": "stream",
     "text": [
      "[-0.00000000e+00 -0.00000000e+00  0.00000000e+00  9.92717681e-01\n",
      " -9.85931050e-01  9.99349085e-01 -8.23063342e-04]\n"
     ]
    },
    {
     "data": {
      "image/png": "[encoded data removed]",
      "text/plain": [
       "<Figure size 432x288 with 1 Axes>"
      ]
     },
     "metadata": {
      "needs_background": "light"
     },
     "output_type": "display_data"
    }
   ],
   "source": [
    "# model de regressio 2: Lasso Regressor\n",
    "# model lineal pero que penalitza incloure moltes variables o variables amb coficients grans\n",
    "# LASSO regression is a variation of linear regression specifically adapted for data that shows\n",
    "# heavy multicollinearity (heavy correlation of features with each other). \n",
    "from sklearn.linear_model import Lasso\n",
    "\n",
    "lasso_model = Lasso()\n",
    "lasso_model.fit(X,y)\n",
    "print(lasso_model.coef_)\n",
    "plt.bar(X.columns,lasso_model.coef_)\n",
    "plt.xticks(rotation=90)\n",
    "plt.ylabel('Importancia de los coef')\n",
    "plt.show()"
   ]
  },
  {
   "cell_type": "markdown",
   "metadata": {},
   "source": [
    "+ Month, DayofMonth DayofWeek or Distance o AirTime no semblen tener importancia per predir ArrDelay"
   ]
  },
  {
   "cell_type": "code",
   "execution_count": 37,
   "metadata": {},
   "outputs": [
    {
     "data": {
      "text/plain": [
       "False"
      ]
     },
     "execution_count": 37,
     "metadata": {},
     "output_type": "execute_result"
    }
   ],
   "source": [
    "# check if the target is within the features to avoid modeling\n",
    "'ArrDelay' in X.columns"
   ]
  },
  {
   "cell_type": "code",
   "execution_count": 38,
   "metadata": {},
   "outputs": [],
   "source": [
    "# model de regressio 3: Decision Tree Regressor\n",
    "from sklearn.tree import DecisionTreeRegressor\n",
    "\n",
    "decision_tree_model = DecisionTreeRegressor()"
   ]
  },
  {
   "cell_type": "markdown",
   "metadata": {},
   "source": [
    "# Exercici 2\n",
    "\n",
    "Compara’ls en base al MSE i al R2 ."
   ]
  },
  {
   "cell_type": "code",
   "execution_count": 39,
   "metadata": {},
   "outputs": [],
   "source": [
    "from sklearn.metrics import r2_score\n",
    "from sklearn.metrics import mean_squared_error as MSE"
   ]
  },
  {
   "cell_type": "code",
   "execution_count": 40,
   "metadata": {},
   "outputs": [
    {
     "name": "stdout",
     "output_type": "stream",
     "text": [
      "modelo: LinearRegression() R2 score: 0.9999999978280454, MSE: 8.01660734471762e-06\n",
      "modelo: Lasso() R2 score: 0.9999929384739433, MSE: 0.02606384211021025\n",
      "modelo: DecisionTreeRegressor() R2 score: 1.0, MSE: 0.0\n"
     ]
    }
   ],
   "source": [
    "modelos = [linear_model,lasso_model,decision_tree_model]\n",
    "for model in modelos:\n",
    "    model.fit(X,y)\n",
    "    y_pred = model.predict(X)    \n",
    "    R2 = r2_score(y,y_pred) \n",
    "    mse = MSE(y,y_pred)\n",
    "    print(f'modelo: {str(model)} R2 score: {R2}, MSE: {mse}')    "
   ]
  },
  {
   "cell_type": "markdown",
   "metadata": {},
   "source": [
    "### com es possible que surti R2 score proper a 1? overfitting per no separar train/test sets?"
   ]
  },
  {
   "cell_type": "markdown",
   "metadata": {},
   "source": [
    "# Exercici 3\n",
    "\n",
    "Entrena’ls utilitzant els diferents paràmetres que admeten."
   ]
  },
  {
   "cell_type": "code",
   "execution_count": 41,
   "metadata": {},
   "outputs": [
    {
     "name": "stdout",
     "output_type": "stream",
     "text": [
      "[1.00000000e-08 1.29154967e-07 1.66810054e-06 2.15443469e-05\n",
      " 2.78255940e-04 3.59381366e-03 4.64158883e-02 5.99484250e-01\n",
      " 7.74263683e+00 1.00000000e+02]\n",
      "the best alpha is 1e-08\n"
     ]
    }
   ],
   "source": [
    "# find the best alpha parameter\n",
    "from sklearn.linear_model import LassoCV\n",
    "alpha = np.logspace(-8, 2, 10)\n",
    "print(alpha)\n",
    "lasso_model = LassoCV(alphas=alpha)\n",
    "lasso_model.fit(X, y)\n",
    "print(f'the best alpha is {lasso_model.alpha_}')\n"
   ]
  },
  {
   "cell_type": "code",
   "execution_count": 42,
   "metadata": {},
   "outputs": [],
   "source": [
    "linear = LinearRegression()\n",
    "lasso = Lasso(alpha=1E-8) # if normalize =True all variable are in the same scale\n",
    "tree = DecisionTreeRegressor(criterion='mse',max_depth= 10,min_samples_leaf=5)\n",
    "# for tree, the higher the max_depth can lead to OVERFITTING..."
   ]
  },
  {
   "cell_type": "code",
   "execution_count": 43,
   "metadata": {},
   "outputs": [
    {
     "name": "stdout",
     "output_type": "stream",
     "text": [
      "modelo: LinearRegression() R2 score: 0.9999999978280454, MSE: 8.01660734471762e-06\n",
      "modelo: Lasso(alpha=1e-08) R2 score: 0.9999997356785904, MSE: 0.0009756009442333422\n",
      "modelo: DecisionTreeRegressor(max_depth=10, min_samples_leaf=5) R2 score: 0.964655752718519, MSE: 130.4543625915818\n"
     ]
    }
   ],
   "source": [
    "modelos = [linear,lasso,tree]\n",
    "for model in modelos:\n",
    "    model.fit(X,y)\n",
    "    y_pred = model.predict(X)    \n",
    "    R2 = r2_score(y,y_pred) \n",
    "    mse = MSE(y,y_pred)\n",
    "    \n",
    "    print(f'modelo: {str(model)} R2 score: {R2}, MSE: {mse}')\n",
    "    "
   ]
  },
  {
   "cell_type": "markdown",
   "metadata": {},
   "source": [
    "+ Al canviar els parametres podem empitjorar els results "
   ]
  },
  {
   "cell_type": "markdown",
   "metadata": {},
   "source": [
    "# Exercici 4\n",
    "\n",
    "Compara el seu rendiment utilitzant l’aproximació traint/test o utilitzant totes les dades (validació interna)\n",
    "\n"
   ]
  },
  {
   "cell_type": "code",
   "execution_count": 44,
   "metadata": {},
   "outputs": [],
   "source": [
    "from sklearn.model_selection import train_test_split,cross_val_score"
   ]
  },
  {
   "cell_type": "code",
   "execution_count": 45,
   "metadata": {},
   "outputs": [],
   "source": [
    "X_train,X_test, y_train,y_test = train_test_split(X,y,test_size=0.3)"
   ]
  },
  {
   "cell_type": "code",
   "execution_count": 46,
   "metadata": {},
   "outputs": [
    {
     "name": "stdout",
     "output_type": "stream",
     "text": [
      "modelo: LinearRegression() R2 score: 0.9999999963838673, MSE: 1.3361103742948154e-05\n",
      "modelo: Lasso(alpha=1e-08) R2 score: 0.9999997530020809, MSE: 0.0009126226941576956\n",
      "modelo: DecisionTreeRegressor(max_depth=10, min_samples_leaf=5) R2 score: 0.9638512986259609, MSE: 133.5643852984075\n"
     ]
    }
   ],
   "source": [
    "modelos = [linear,lasso,tree]\n",
    "for model in modelos:\n",
    "    model.fit(X_train,y_train)\n",
    "    y_pred = model.predict(X_test)    \n",
    "    R2 = r2_score(y_test,y_pred) \n",
    "    mse = MSE(y_test,y_pred)\n",
    "    print(f'modelo: {str(model)} R2 score: {R2}, MSE: {mse}')\n",
    "    "
   ]
  },
  {
   "cell_type": "code",
   "execution_count": 47,
   "metadata": {},
   "outputs": [
    {
     "name": "stdout",
     "output_type": "stream",
     "text": [
      "modelo: LinearRegression() R2 score: 0.9999999977702398\n",
      "modelo: Lasso(alpha=1e-08) R2 score: 0.999999737365935\n",
      "modelo: DecisionTreeRegressor(max_depth=10, min_samples_leaf=5) R2 score: 0.9630047935814376\n"
     ]
    }
   ],
   "source": [
    "# calculo R2 score usando cross validation para ser menos sensible a como dividimos los datos entre train i test \n",
    "modelos = [linear,lasso,tree]\n",
    "for model in modelos:\n",
    "    cv_results = cross_val_score(model, X, y, cv=5)   \n",
    "    print(f'modelo: {str(model)} R2 score: {np.mean(cv_results)}')"
   ]
  },
  {
   "cell_type": "markdown",
   "metadata": {},
   "source": [
    "### Nivell 2\n",
    "\n",
    "\n",
    "\n",
    "# Exercici 5\n",
    "\n",
    "Realitza algun procés d’enginyeria de variables per millorar-ne la predicció\n",
    "\n"
   ]
  },
  {
   "cell_type": "code",
   "execution_count": 48,
   "metadata": {},
   "outputs": [
    {
     "data": {
      "text/html": [
       "<div>\n",
       "<style scoped>\n",
       "    .dataframe tbody tr th:only-of-type {\n",
       "        vertical-align: middle;\n",
       "    }\n",
       "\n",
       "    .dataframe tbody tr th {\n",
       "        vertical-align: top;\n",
       "    }\n",
       "\n",
       "    .dataframe thead th {\n",
       "        text-align: right;\n",
       "    }\n",
       "</style>\n",
       "<table border=\"1\" class=\"dataframe\">\n",
       "  <thead>\n",
       "    <tr style=\"text-align: right;\">\n",
       "      <th></th>\n",
       "      <th>Month</th>\n",
       "      <th>DayofMonth</th>\n",
       "      <th>DayOfWeek</th>\n",
       "      <th>ActualElapsedTime</th>\n",
       "      <th>CRSElapsedTime</th>\n",
       "      <th>DepDelay</th>\n",
       "      <th>Distance</th>\n",
       "    </tr>\n",
       "  </thead>\n",
       "  <tbody>\n",
       "    <tr>\n",
       "      <th>0</th>\n",
       "      <td>1</td>\n",
       "      <td>3</td>\n",
       "      <td>4</td>\n",
       "      <td>90.0</td>\n",
       "      <td>90.0</td>\n",
       "      <td>34.0</td>\n",
       "      <td>515</td>\n",
       "    </tr>\n",
       "    <tr>\n",
       "      <th>1</th>\n",
       "      <td>1</td>\n",
       "      <td>3</td>\n",
       "      <td>4</td>\n",
       "      <td>240.0</td>\n",
       "      <td>250.0</td>\n",
       "      <td>67.0</td>\n",
       "      <td>1591</td>\n",
       "    </tr>\n",
       "    <tr>\n",
       "      <th>2</th>\n",
       "      <td>1</td>\n",
       "      <td>3</td>\n",
       "      <td>4</td>\n",
       "      <td>121.0</td>\n",
       "      <td>135.0</td>\n",
       "      <td>94.0</td>\n",
       "      <td>828</td>\n",
       "    </tr>\n",
       "    <tr>\n",
       "      <th>3</th>\n",
       "      <td>1</td>\n",
       "      <td>3</td>\n",
       "      <td>4</td>\n",
       "      <td>228.0</td>\n",
       "      <td>240.0</td>\n",
       "      <td>27.0</td>\n",
       "      <td>1489</td>\n",
       "    </tr>\n",
       "    <tr>\n",
       "      <th>4</th>\n",
       "      <td>1</td>\n",
       "      <td>3</td>\n",
       "      <td>4</td>\n",
       "      <td>123.0</td>\n",
       "      <td>135.0</td>\n",
       "      <td>28.0</td>\n",
       "      <td>838</td>\n",
       "    </tr>\n",
       "  </tbody>\n",
       "</table>\n",
       "</div>"
      ],
      "text/plain": [
       "   Month  DayofMonth  DayOfWeek  ActualElapsedTime  CRSElapsedTime  DepDelay  \\\n",
       "0      1           3          4               90.0            90.0      34.0   \n",
       "1      1           3          4              240.0           250.0      67.0   \n",
       "2      1           3          4              121.0           135.0      94.0   \n",
       "3      1           3          4              228.0           240.0      27.0   \n",
       "4      1           3          4              123.0           135.0      28.0   \n",
       "\n",
       "   Distance  \n",
       "0       515  \n",
       "1      1591  \n",
       "2       828  \n",
       "3      1489  \n",
       "4       838  "
      ]
     },
     "execution_count": 48,
     "metadata": {},
     "output_type": "execute_result"
    }
   ],
   "source": [
    "X.head()"
   ]
  },
  {
   "cell_type": "code",
   "execution_count": 68,
   "metadata": {},
   "outputs": [],
   "source": [
    "X_subset= X.drop(columns=['Month','DayofMonth','DayOfWeek'],axis=1)"
   ]
  },
  {
   "cell_type": "code",
   "execution_count": 69,
   "metadata": {},
   "outputs": [],
   "source": [
    "# crear noves columnes (FEATURE ENGINEERING)\n",
    "X_subset['speed'] = X_subset['Distance'].div(X_subset['ActualElapsedTime']/60)"
   ]
  },
  {
   "cell_type": "code",
   "execution_count": 70,
   "metadata": {},
   "outputs": [
    {
     "data": {
      "image/png": "[encoded data removed]",
      "text/plain": [
       "<Figure size 432x288 with 1 Axes>"
      ]
     },
     "metadata": {
      "needs_background": "light"
     },
     "output_type": "display_data"
    }
   ],
   "source": [
    "_= X_subset.boxplot(rot=90)"
   ]
  },
  {
   "cell_type": "code",
   "execution_count": 71,
   "metadata": {},
   "outputs": [],
   "source": [
    "# crear noves columnes (FEATURE ENGINEERING)\n",
    "X_subset['ElapseTime_difference']=X['ActualElapsedTime']-X_subset['CRSElapsedTime']"
   ]
  },
  {
   "cell_type": "code",
   "execution_count": 72,
   "metadata": {},
   "outputs": [
    {
     "data": {
      "image/png": "[encoded data removed]",
      "text/plain": [
       "<Figure size 432x288 with 2 Axes>"
      ]
     },
     "metadata": {
      "needs_background": "light"
     },
     "output_type": "display_data"
    }
   ],
   "source": [
    "corr = X_subset.corr()\n",
    "sns.heatmap(corr,cmap='coolwarm',vmax=1, vmin=-1)\n",
    "plt.show()"
   ]
  },
  {
   "cell_type": "code",
   "execution_count": 73,
   "metadata": {},
   "outputs": [],
   "source": [
    "from sklearn.preprocessing import StandardScaler"
   ]
  },
  {
   "cell_type": "code",
   "execution_count": 74,
   "metadata": {},
   "outputs": [
    {
     "data": {
      "text/html": [
       "<div>\n",
       "<style scoped>\n",
       "    .dataframe tbody tr th:only-of-type {\n",
       "        vertical-align: middle;\n",
       "    }\n",
       "\n",
       "    .dataframe tbody tr th {\n",
       "        vertical-align: top;\n",
       "    }\n",
       "\n",
       "    .dataframe thead th {\n",
       "        text-align: right;\n",
       "    }\n",
       "</style>\n",
       "<table border=\"1\" class=\"dataframe\">\n",
       "  <thead>\n",
       "    <tr style=\"text-align: right;\">\n",
       "      <th></th>\n",
       "      <th>ActualElapsedTime</th>\n",
       "      <th>CRSElapsedTime</th>\n",
       "      <th>DepDelay</th>\n",
       "      <th>Distance</th>\n",
       "      <th>speed</th>\n",
       "      <th>ElapseTime_difference</th>\n",
       "      <th>ArrDelay</th>\n",
       "    </tr>\n",
       "  </thead>\n",
       "  <tbody>\n",
       "    <tr>\n",
       "      <th>0</th>\n",
       "      <td>90.0</td>\n",
       "      <td>90.0</td>\n",
       "      <td>34.0</td>\n",
       "      <td>515</td>\n",
       "      <td>343.333333</td>\n",
       "      <td>0.0</td>\n",
       "      <td>34.0</td>\n",
       "    </tr>\n",
       "    <tr>\n",
       "      <th>1</th>\n",
       "      <td>240.0</td>\n",
       "      <td>250.0</td>\n",
       "      <td>67.0</td>\n",
       "      <td>1591</td>\n",
       "      <td>397.750000</td>\n",
       "      <td>-10.0</td>\n",
       "      <td>57.0</td>\n",
       "    </tr>\n",
       "    <tr>\n",
       "      <th>2</th>\n",
       "      <td>121.0</td>\n",
       "      <td>135.0</td>\n",
       "      <td>94.0</td>\n",
       "      <td>828</td>\n",
       "      <td>410.578512</td>\n",
       "      <td>-14.0</td>\n",
       "      <td>80.0</td>\n",
       "    </tr>\n",
       "    <tr>\n",
       "      <th>3</th>\n",
       "      <td>228.0</td>\n",
       "      <td>240.0</td>\n",
       "      <td>27.0</td>\n",
       "      <td>1489</td>\n",
       "      <td>391.842105</td>\n",
       "      <td>-12.0</td>\n",
       "      <td>15.0</td>\n",
       "    </tr>\n",
       "    <tr>\n",
       "      <th>4</th>\n",
       "      <td>123.0</td>\n",
       "      <td>135.0</td>\n",
       "      <td>28.0</td>\n",
       "      <td>838</td>\n",
       "      <td>408.780488</td>\n",
       "      <td>-12.0</td>\n",
       "      <td>16.0</td>\n",
       "    </tr>\n",
       "  </tbody>\n",
       "</table>\n",
       "</div>"
      ],
      "text/plain": [
       "   ActualElapsedTime  CRSElapsedTime  DepDelay  Distance       speed  \\\n",
       "0               90.0            90.0      34.0       515  343.333333   \n",
       "1              240.0           250.0      67.0      1591  397.750000   \n",
       "2              121.0           135.0      94.0       828  410.578512   \n",
       "3              228.0           240.0      27.0      1489  391.842105   \n",
       "4              123.0           135.0      28.0       838  408.780488   \n",
       "\n",
       "   ElapseTime_difference  ArrDelay  \n",
       "0                    0.0      34.0  \n",
       "1                  -10.0      57.0  \n",
       "2                  -14.0      80.0  \n",
       "3                  -12.0      15.0  \n",
       "4                  -12.0      16.0  "
      ]
     },
     "execution_count": 74,
     "metadata": {},
     "output_type": "execute_result"
    }
   ],
   "source": [
    "df_final = pd.concat([X_subset,target],axis=1)\n",
    "df_final.head()"
   ]
  },
  {
   "cell_type": "code",
   "execution_count": 76,
   "metadata": {},
   "outputs": [],
   "source": [
    "scaler = StandardScaler()\n",
    "df_scaler = pd.DataFrame(scaler.fit_transform(df_final),columns=df_final.columns)"
   ]
  },
  {
   "cell_type": "code",
   "execution_count": 77,
   "metadata": {},
   "outputs": [
    {
     "data": {
      "text/html": [
       "<div>\n",
       "<style scoped>\n",
       "    .dataframe tbody tr th:only-of-type {\n",
       "        vertical-align: middle;\n",
       "    }\n",
       "\n",
       "    .dataframe tbody tr th {\n",
       "        vertical-align: top;\n",
       "    }\n",
       "\n",
       "    .dataframe thead th {\n",
       "        text-align: right;\n",
       "    }\n",
       "</style>\n",
       "<table border=\"1\" class=\"dataframe\">\n",
       "  <thead>\n",
       "    <tr style=\"text-align: right;\">\n",
       "      <th></th>\n",
       "      <th>ActualElapsedTime</th>\n",
       "      <th>CRSElapsedTime</th>\n",
       "      <th>DepDelay</th>\n",
       "      <th>Distance</th>\n",
       "      <th>speed</th>\n",
       "      <th>ElapseTime_difference</th>\n",
       "      <th>ArrDelay</th>\n",
       "    </tr>\n",
       "  </thead>\n",
       "  <tbody>\n",
       "    <tr>\n",
       "      <th>0</th>\n",
       "      <td>-0.627764</td>\n",
       "      <td>-0.600737</td>\n",
       "      <td>-0.428886</td>\n",
       "      <td>-0.405151</td>\n",
       "      <td>0.465420</td>\n",
       "      <td>-0.189924</td>\n",
       "      <td>-0.482131</td>\n",
       "    </tr>\n",
       "    <tr>\n",
       "      <th>1</th>\n",
       "      <td>1.447083</td>\n",
       "      <td>1.700407</td>\n",
       "      <td>0.122323</td>\n",
       "      <td>1.518473</td>\n",
       "      <td>1.069368</td>\n",
       "      <td>-0.715401</td>\n",
       "      <td>-0.103551</td>\n",
       "    </tr>\n",
       "    <tr>\n",
       "      <th>2</th>\n",
       "      <td>-0.198963</td>\n",
       "      <td>0.046460</td>\n",
       "      <td>0.573312</td>\n",
       "      <td>0.154416</td>\n",
       "      <td>1.211747</td>\n",
       "      <td>-0.925592</td>\n",
       "      <td>0.275030</td>\n",
       "    </tr>\n",
       "    <tr>\n",
       "      <th>3</th>\n",
       "      <td>1.281095</td>\n",
       "      <td>1.556586</td>\n",
       "      <td>-0.545810</td>\n",
       "      <td>1.336122</td>\n",
       "      <td>1.003799</td>\n",
       "      <td>-0.820497</td>\n",
       "      <td>-0.794871</td>\n",
       "    </tr>\n",
       "    <tr>\n",
       "      <th>4</th>\n",
       "      <td>-0.171298</td>\n",
       "      <td>0.046460</td>\n",
       "      <td>-0.529106</td>\n",
       "      <td>0.172293</td>\n",
       "      <td>1.191791</td>\n",
       "      <td>-0.820497</td>\n",
       "      <td>-0.778411</td>\n",
       "    </tr>\n",
       "  </tbody>\n",
       "</table>\n",
       "</div>"
      ],
      "text/plain": [
       "   ActualElapsedTime  CRSElapsedTime  DepDelay  Distance     speed  \\\n",
       "0          -0.627764       -0.600737 -0.428886 -0.405151  0.465420   \n",
       "1           1.447083        1.700407  0.122323  1.518473  1.069368   \n",
       "2          -0.198963        0.046460  0.573312  0.154416  1.211747   \n",
       "3           1.281095        1.556586 -0.545810  1.336122  1.003799   \n",
       "4          -0.171298        0.046460 -0.529106  0.172293  1.191791   \n",
       "\n",
       "   ElapseTime_difference  ArrDelay  \n",
       "0              -0.189924 -0.482131  \n",
       "1              -0.715401 -0.103551  \n",
       "2              -0.925592  0.275030  \n",
       "3              -0.820497 -0.794871  \n",
       "4              -0.820497 -0.778411  "
      ]
     },
     "execution_count": 77,
     "metadata": {},
     "output_type": "execute_result"
    }
   ],
   "source": [
    "df_scaler.head()"
   ]
  },
  {
   "cell_type": "code",
   "execution_count": 83,
   "metadata": {},
   "outputs": [
    {
     "data": {
      "text/plain": [
       "ActualElapsedTime        1.0\n",
       "CRSElapsedTime           1.0\n",
       "DepDelay                 1.0\n",
       "Distance                 1.0\n",
       "speed                    1.0\n",
       "ElapseTime_difference    1.0\n",
       "ArrDelay                 1.0\n",
       "dtype: float64"
      ]
     },
     "execution_count": 83,
     "metadata": {},
     "output_type": "execute_result"
    }
   ],
   "source": [
    "df_scaler.std()"
   ]
  },
  {
   "cell_type": "code",
   "execution_count": 84,
   "metadata": {},
   "outputs": [
    {
     "data": {
      "text/plain": [
       "ActualElapsedTime        3.077735e-15\n",
       "CRSElapsedTime           1.316170e-15\n",
       "DepDelay                 6.542870e-16\n",
       "Distance                -1.589521e-14\n",
       "speed                    2.909207e-15\n",
       "ElapseTime_difference   -1.947968e-14\n",
       "ArrDelay                 1.457600e-15\n",
       "dtype: float64"
      ]
     },
     "execution_count": 84,
     "metadata": {},
     "output_type": "execute_result"
    }
   ],
   "source": [
    "df_scaler.mean()"
   ]
  },
  {
   "cell_type": "code",
   "execution_count": 85,
   "metadata": {},
   "outputs": [
    {
     "data": {
      "text/plain": [
       "<AxesSubplot:xlabel='ArrDelay', ylabel='Count'>"
      ]
     },
     "execution_count": 85,
     "metadata": {},
     "output_type": "execute_result"
    },
    {
     "data": {
      "image/png": "[encoded data removed]",
      "text/plain": [
       "<Figure size 432x288 with 1 Axes>"
      ]
     },
     "metadata": {
      "needs_background": "light"
     },
     "output_type": "display_data"
    }
   ],
   "source": [
    "sns.histplot(df_scaler['ArrDelay'],color='black',alpha=0.5,bins=100)"
   ]
  },
  {
   "cell_type": "code",
   "execution_count": 86,
   "metadata": {},
   "outputs": [
    {
     "data": {
      "text/plain": [
       "(-1.0, 1.0)"
      ]
     },
     "execution_count": 86,
     "metadata": {},
     "output_type": "execute_result"
    },
    {
     "data": {
      "image/png": "[encoded data removed]",
      "text/plain": [
       "<Figure size 432x288 with 1 Axes>"
      ]
     },
     "metadata": {
      "needs_background": "light"
     },
     "output_type": "display_data"
    }
   ],
   "source": [
    "sns.histplot(df_scaler['ArrDelay'],color='black')\n",
    "plt.xlim([-1,1])"
   ]
  },
  {
   "cell_type": "code",
   "execution_count": 88,
   "metadata": {},
   "outputs": [],
   "source": [
    "X_final = df_scaler.drop('ArrDelay',axis=1)\n",
    "y_final = df_scaler['ArrDelay']\n",
    "\n",
    "X_train_final,X_test_final,y_train_final, y_test_final = train_test_split(X_final,y_final,test_size=0.3)"
   ]
  },
  {
   "cell_type": "code",
   "execution_count": 90,
   "metadata": {},
   "outputs": [
    {
     "data": {
      "text/plain": [
       "((873179, 6), (873179,))"
      ]
     },
     "execution_count": 90,
     "metadata": {},
     "output_type": "execute_result"
    }
   ],
   "source": [
    "X_train_final.shape,y_train_final.shape"
   ]
  },
  {
   "cell_type": "code",
   "execution_count": 92,
   "metadata": {},
   "outputs": [
    {
     "name": "stdout",
     "output_type": "stream",
     "text": [
      "modelo: LinearRegression() R2 score: 0.9999999971086486, MSE: 2.8959445455806176e-09\n",
      "modelo: Lasso(alpha=1e-08) R2 score: 0.9999999748521599, MSE: 2.518778933378142e-08\n",
      "modelo: DecisionTreeRegressor(max_depth=10, min_samples_leaf=5) R2 score: 0.9979744914881571, MSE: 0.0020287261842833818\n"
     ]
    }
   ],
   "source": [
    "modelos = [linear,lasso,tree]\n",
    "for model in modelos:\n",
    "    model.fit(X_train_final,y_train_final)\n",
    "    y_pred = model.predict(X_test_final)    \n",
    "    R2 = r2_score(y_test_final,y_pred) \n",
    "    mse = MSE(y_test_final,y_pred)\n",
    "    print(f'modelo: {str(model)} R2 score: {R2}, MSE: {mse}')"
   ]
  },
  {
   "cell_type": "markdown",
   "metadata": {},
   "source": [
    "+ R2 score se mantien igual pero MSE baja"
   ]
  },
  {
   "cell_type": "markdown",
   "metadata": {},
   "source": [
    "### Nivell 3\n",
    "\n",
    "\n",
    "# Exercici 6\n",
    "\n",
    "No utilitzis la variable DepDelay a l’hora de fer prediccions"
   ]
  },
  {
   "cell_type": "code",
   "execution_count": 93,
   "metadata": {},
   "outputs": [
    {
     "name": "stdout",
     "output_type": "stream",
     "text": [
      "modelo: LinearRegression() R2 score: 0.04854262470015036, MSE: 3525.2185915618193\n"
     ]
    },
    {
     "name": "stderr",
     "output_type": "stream",
     "text": [
      "/home/vant/.local/lib/python3.8/site-packages/sklearn/linear_model/_coordinate_descent.py:530: ConvergenceWarning: Objective did not converge. You might want to increase the number of iterations. Duality gap: 18960995.027397633, tolerance: 321759.16891871253\n",
      "  model = cd_fast.enet_coordinate_descent(\n"
     ]
    },
    {
     "name": "stdout",
     "output_type": "stream",
     "text": [
      "modelo: Lasso(alpha=1e-08) R2 score: 0.04854262470008597, MSE: 3525.2185915620585\n",
      "modelo: DecisionTreeRegressor(max_depth=10, min_samples_leaf=5) R2 score: 0.08056156009362814, MSE: 3406.5861133643252\n"
     ]
    }
   ],
   "source": [
    "df= df_final.drop('DepDelay',axis=1)\n",
    "X,y = df.drop('ArrDelay',axis=1), df['ArrDelay']\n",
    "\n",
    "\n",
    "X_train,X_test,y_train, y_test = train_test_split(X,y,test_size=0.3)\n",
    "modelos = [linear,lasso,tree]\n",
    "for model in modelos:\n",
    "    model.fit(X_train,y_train)\n",
    "    y_pred = model.predict(X_test)    \n",
    "    R2 = r2_score(y_test,y_pred) \n",
    "    mse = MSE(y_test,y_pred)\n",
    "    print(f'modelo: {str(model)} R2 score: {R2}, MSE: {mse}')"
   ]
  },
  {
   "cell_type": "markdown",
   "metadata": {},
   "source": [
    "+ el resultat final empitjora molt"
   ]
  },
  {
   "cell_type": "code",
   "execution_count": null,
   "metadata": {},
   "outputs": [],
   "source": []
  }
 ],
 "metadata": {
  "kernelspec": {
   "display_name": "Python 3.8.5 64-bit",
   "language": "python",
   "name": "python38564bit085283b789164c689fec9352bdb58d25"
  },
  "language_info": {
   "codemirror_mode": {
    "name": "ipython",
    "version": 3
   },
   "file_extension": ".py",
   "mimetype": "text/x-python",
   "name": "python",
   "nbconvert_exporter": "python",
   "pygments_lexer": "ipython3",
   "version": "3.8.5"
  }
 },
 "nbformat": 4,
 "nbformat_minor": 4
}
